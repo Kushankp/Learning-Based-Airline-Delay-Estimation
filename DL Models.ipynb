{
  "nbformat": 4,
  "nbformat_minor": 0,
  "metadata": {
    "colab": {
      "provenance": [],
      "gpuType": "T4"
    },
    "kernelspec": {
      "name": "python3",
      "display_name": "Python 3"
    },
    "language_info": {
      "name": "python"
    },
    "accelerator": "GPU"
  },
  "cells": [
    {
      "cell_type": "markdown",
      "source": [
        "**DNN - Feed Forward Neural Networks (FFNN)**"
      ],
      "metadata": {
        "id": "fSuhdBfi529U"
      }
    },
    {
      "cell_type": "code",
      "source": [
        "import pandas as pd\n",
        "import numpy as np\n",
        "from sklearn.model_selection import train_test_split\n",
        "from sklearn.preprocessing import StandardScaler, LabelEncoder\n",
        "from tensorflow.keras.models import Sequential\n",
        "from tensorflow.keras.layers import Dense\n",
        "from tensorflow.keras.optimizers import Adam\n",
        "\n",
        "data = pd.read_csv('cleaned_dataset.csv')\n",
        "\n",
        "data.fillna(0, inplace=True)\n",
        "\n",
        "label_encoder = LabelEncoder()\n",
        "data['OP_UNIQUE_CARRIER'] = label_encoder.fit_transform(data['OP_UNIQUE_CARRIER'])\n",
        "data['ORIGIN'] = label_encoder.fit_transform(data['ORIGIN'])\n",
        "data['DEST'] = label_encoder.fit_transform(data['DEST'])\n",
        "\n",
        "data['DELAYED'] = np.where(data['DEP_DELAY'] > 15, 1, 0)\n",
        "\n",
        "data.drop(['DEP_DELAY'], axis=1, inplace=True)\n",
        "\n",
        "X = data.drop('DELAYED', axis=1)\n",
        "y = data['DELAYED']\n",
        "\n",
        "X_train, X_test, y_train, y_test = train_test_split(X, y, test_size=0.2, random_state=42)\n",
        "\n",
        "scaler = StandardScaler()\n",
        "X_train = scaler.fit_transform(X_train)\n",
        "X_test = scaler.transform(X_test)\n",
        "\n",
        "model = Sequential()\n",
        "\n",
        "model.add(Dense(64, input_dim=X_train.shape[1], activation='relu'))\n",
        "\n",
        "model.add(Dense(128, activation='relu'))\n",
        "model.add(Dense(64, activation='relu'))\n",
        "model.add(Dense(32, activation='relu'))\n",
        "\n",
        "model.add(Dense(1, activation='sigmoid'))\n",
        "\n",
        "model.compile(optimizer=Adam(), loss='binary_crossentropy', metrics=['accuracy'])\n",
        "\n",
        "model.fit(X_train, y_train, epochs=5, batch_size=128, validation_data=(X_test, y_test))\n",
        "\n",
        "loss, accuracy = model.evaluate(X_test, y_test)\n",
        "print(f\"Test Accuracy: {accuracy:.4f}\")\n",
        "\n",
        "predictions = model.predict(X_test)\n",
        "predictions = (predictions > 0.5).astype(int)\n"
      ],
      "metadata": {
        "colab": {
          "base_uri": "https://localhost:8080/"
        },
        "id": "q-frKrMBu9GA",
        "outputId": "f2f3d2c2-ae99-415f-eb02-d771073816ad"
      },
      "execution_count": null,
      "outputs": [
        {
          "output_type": "stream",
          "name": "stderr",
          "text": [
            "/usr/local/lib/python3.10/dist-packages/keras/src/layers/core/dense.py:87: UserWarning: Do not pass an `input_shape`/`input_dim` argument to a layer. When using Sequential models, prefer using an `Input(shape)` object as the first layer in the model instead.\n",
            "  super().__init__(activity_regularizer=activity_regularizer, **kwargs)\n"
          ]
        },
        {
          "output_type": "stream",
          "name": "stdout",
          "text": [
            "Epoch 1/5\n",
            "\u001b[1m35564/35564\u001b[0m \u001b[32m━━━━━━━━━━━━━━━━━━━━\u001b[0m\u001b[37m\u001b[0m \u001b[1m128s\u001b[0m 4ms/step - accuracy: 0.9683 - loss: 0.0888 - val_accuracy: 0.9858 - val_loss: 0.0327\n",
            "Epoch 2/5\n",
            "\u001b[1m35564/35564\u001b[0m \u001b[32m━━━━━━━━━━━━━━━━━━━━\u001b[0m\u001b[37m\u001b[0m \u001b[1m143s\u001b[0m 4ms/step - accuracy: 0.9887 - loss: 0.0273 - val_accuracy: 0.9942 - val_loss: 0.0168\n",
            "Epoch 3/5\n",
            "\u001b[1m35564/35564\u001b[0m \u001b[32m━━━━━━━━━━━━━━━━━━━━\u001b[0m\u001b[37m\u001b[0m \u001b[1m118s\u001b[0m 3ms/step - accuracy: 0.9902 - loss: 0.0238 - val_accuracy: 0.9901 - val_loss: 0.0239\n",
            "Epoch 4/5\n",
            "\u001b[1m35564/35564\u001b[0m \u001b[32m━━━━━━━━━━━━━━━━━━━━\u001b[0m\u001b[37m\u001b[0m \u001b[1m118s\u001b[0m 3ms/step - accuracy: 0.9909 - loss: 0.0221 - val_accuracy: 0.9939 - val_loss: 0.0159\n",
            "Epoch 5/5\n",
            "\u001b[1m35564/35564\u001b[0m \u001b[32m━━━━━━━━━━━━━━━━━━━━\u001b[0m\u001b[37m\u001b[0m \u001b[1m137s\u001b[0m 3ms/step - accuracy: 0.9915 - loss: 0.0207 - val_accuracy: 0.9916 - val_loss: 0.0207\n",
            "\u001b[1m35564/35564\u001b[0m \u001b[32m━━━━━━━━━━━━━━━━━━━━\u001b[0m\u001b[37m\u001b[0m \u001b[1m57s\u001b[0m 2ms/step - accuracy: 0.9918 - loss: 0.0202\n",
            "Test Accuracy: 0.9916\n",
            "\u001b[1m35564/35564\u001b[0m \u001b[32m━━━━━━━━━━━━━━━━━━━━\u001b[0m\u001b[37m\u001b[0m \u001b[1m58s\u001b[0m 2ms/step\n"
          ]
        }
      ]
    },
    {
      "cell_type": "code",
      "source": [
        "from sklearn.metrics import confusion_matrix\n",
        "import seaborn as sns\n",
        "import matplotlib.pyplot as plt\n",
        "\n",
        "cm = confusion_matrix(y_test, predictions)\n",
        "\n",
        "plt.figure(figsize=(6, 5))\n",
        "sns.heatmap(cm, annot=True, fmt='d', cmap='Blues', xticklabels=['Not Delayed', 'Delayed'], yticklabels=['Not Delayed', 'Delayed'])\n",
        "plt.xlabel('Predicted')\n",
        "plt.ylabel('True')\n",
        "plt.title('Confusion Matrix')\n",
        "plt.show()\n"
      ],
      "metadata": {
        "colab": {
          "base_uri": "https://localhost:8080/",
          "height": 487
        },
        "id": "IVWu6G6WhmnD",
        "outputId": "d31df7e2-abdc-4e52-e54a-5f82052180d7"
      },
      "execution_count": null,
      "outputs": [
        {
          "output_type": "display_data",
          "data": {
            "text/plain": [
              "<Figure size 600x500 with 2 Axes>"
            ],
            "image/png": "[encoded data removed]"
          },
          "metadata": {}
        }
      ]
    },
    {
      "cell_type": "code",
      "source": [
        "\n",
        "num_samples = 10\n",
        "sample_indices = np.random.choice(len(X_test), num_samples, replace=False)\n",
        "\n",
        "sample_data = X_test[sample_indices]\n",
        "true_labels = y_test.iloc[sample_indices].values\n",
        "predicted_labels = predictions[sample_indices].flatten()\n",
        "\n",
        "sample_df = pd.DataFrame(sample_data, columns=data.drop('DELAYED', axis=1).columns)\n",
        "sample_df['True Label'] = true_labels\n",
        "sample_df['Predicted Label'] = predicted_labels\n",
        "\n",
        "print(\"Sample Test Data with True and Predicted Labels:\")\n",
        "print(sample_df)\n"
      ],
      "metadata": {
        "colab": {
          "base_uri": "https://localhost:8080/"
        },
        "id": "y5u8ABe8hmaT",
        "outputId": "2262f3d7-2969-4423-c7df-3fb2991a4542"
      },
      "execution_count": null,
      "outputs": [
        {
          "output_type": "stream",
          "name": "stdout",
          "text": [
            "Sample Test Data with True and Predicted Labels:\n",
            "   YEAR     MONTH  DAY_OF_MONTH  DAY_OF_WEEK  OP_UNIQUE_CARRIER    ORIGIN  \\\n",
            "0   0.0 -1.051081     -0.199863     0.535986           1.318862 -1.420697   \n",
            "1   0.0  1.309147     -1.570075     1.540410          -1.144675  0.709047   \n",
            "2   0.0  0.719090      0.485243     1.038198           1.318862  0.936827   \n",
            "3   0.0 -0.756053      1.284534     1.540410           0.423030  1.426555   \n",
            "4   0.0 -0.461024      0.256875     1.540410          -0.920717  0.196542   \n",
            "5   0.0 -1.346110     -0.085678     1.038198          -0.920717 -0.874025   \n",
            "6   0.0 -1.051081      0.485243     0.033774           1.318862  1.631557   \n",
            "7   0.0  0.424061     -1.113338    -0.468438           0.646988  0.139597   \n",
            "8   0.0 -0.165996      1.512902     1.540410           0.199072  0.777381   \n",
            "9   0.0 -1.051081     -0.999153     0.535986           0.199072 -0.372909   \n",
            "\n",
            "       DEST  CRS_DEP_TIME  DEP_TIME  CRS_ARR_TIME  ARR_TIME  DISTANCE  \\\n",
            "0 -0.530268      0.394917  0.364462      0.658349  0.638257 -0.016644   \n",
            "1  0.236309     -1.533529 -1.519502     -1.601631 -1.510297 -0.744684   \n",
            "2 -1.617205     -1.533529 -1.515366     -1.537998 -1.461288 -0.458432   \n",
            "3 -0.221349      0.424749  0.383074      0.313502  0.291274 -0.663607   \n",
            "4 -1.617205     -1.448294 -1.440917     -1.412786 -1.437763 -0.825761   \n",
            "5 -1.617205     -1.331095 -1.397489     -1.318363 -1.259371 -0.423685   \n",
            "6  0.385048     -1.299132 -1.285816     -1.230099 -1.147630  0.320901   \n",
            "7 -0.106934     -0.037652 -0.042938      0.662454  0.638257  0.693194   \n",
            "8 -0.942160     -0.372200 -0.375888     -0.203769 -0.279191 -0.890292   \n",
            "9  0.774057     -1.437639 -1.434713     -1.548261 -1.471089 -1.042518   \n",
            "\n",
            "   CARRIER_DELAY  WEATHER_DELAY  NAS_DELAY  SECURITY_DELAY  \\\n",
            "0      -0.174971      -0.061258  -0.211604       -0.015299   \n",
            "1      -0.174971      -0.061258  -0.211604       -0.015299   \n",
            "2      -0.174971      -0.061258  -0.211604       -0.015299   \n",
            "3      -0.174971      -0.061258  -0.211604       -0.015299   \n",
            "4      -0.174971      -0.061258  -0.211604       -0.015299   \n",
            "5      -0.174971      -0.061258  -0.211604       -0.015299   \n",
            "6      -0.174971      -0.061258  -0.211604       -0.015299   \n",
            "7      -0.174971      -0.061258  -0.211604       -0.015299   \n",
            "8      -0.174971      -0.061258  -0.211604       -0.015299   \n",
            "9      -0.174971      -0.061258  -0.211604       -0.015299   \n",
            "\n",
            "   LATE_AIRCRAFT_DELAY  True Label  Predicted Label  \n",
            "0            -0.240369           0                0  \n",
            "1            -0.240369           0                0  \n",
            "2            -0.240369           0                0  \n",
            "3            -0.240369           0                0  \n",
            "4            -0.240369           0                0  \n",
            "5            -0.240369           0                0  \n",
            "6            -0.240369           0                0  \n",
            "7            -0.240369           0                0  \n",
            "8            -0.240369           0                0  \n",
            "9            -0.240369           0                0  \n"
          ]
        }
      ]
    },
    {
      "cell_type": "markdown",
      "source": [
        "**DNN - Convolutional Neural Networks (CNN)**"
      ],
      "metadata": {
        "id": "p-FWEKeG6UYJ"
      }
    },
    {
      "cell_type": "code",
      "source": [
        "from tensorflow.keras.layers import Dense, Conv1D, MaxPooling1D, Dropout, Flatten\n",
        "\n",
        "data = pd.read_csv('cleaned_dataset.csv')\n",
        "\n",
        "data.fillna(0, inplace=True)\n",
        "\n",
        "label_encoder = LabelEncoder()\n",
        "data['OP_UNIQUE_CARRIER'] = label_encoder.fit_transform(data['OP_UNIQUE_CARRIER'])\n",
        "data['ORIGIN'] = label_encoder.fit_transform(data['ORIGIN'])\n",
        "data['DEST'] = label_encoder.fit_transform(data['DEST'])\n",
        "\n",
        "data['DELAYED'] = np.where(data['DEP_DELAY'] > 15, 1, 0)\n",
        "\n",
        "data.drop(['DEP_DELAY'], axis=1, inplace=True)\n",
        "\n",
        "\n",
        "X = data.drop('DELAYED', axis=1)\n",
        "y = data['DELAYED']\n",
        "\n",
        "X = X.values.reshape(X.shape[0], X.shape[1], 1)\n",
        "\n",
        "X_train, X_test, y_train, y_test = train_test_split(X, y, test_size=0.2, random_state=42)\n",
        "\n",
        "scaler = StandardScaler()\n",
        "for i in range(X_train.shape[2]):\n",
        "    X_train[:, :, i] = scaler.fit_transform(X_train[:, :, i])\n",
        "    X_test[:, :, i] = scaler.transform(X_test[:, :, i])\n",
        "\n",
        "y_train = y_train.values.reshape(-1, 1)\n",
        "y_test = y_test.values.reshape(-1, 1)\n",
        "\n",
        "model = Sequential()\n",
        "\n",
        "model.add(Conv1D(64, kernel_size=3, activation='relu', input_shape=(X_train.shape[1], X_train.shape[2])))\n",
        "model.add(MaxPooling1D(pool_size=2))\n",
        "\n",
        "model.add(Conv1D(128, kernel_size=3, activation='relu'))\n",
        "model.add(MaxPooling1D(pool_size=2))\n",
        "\n",
        "model.add(Flatten())\n",
        "model.add(Dense(64, activation='relu'))\n",
        "model.add(Dropout(0.5))\n",
        "\n",
        "model.add(Dense(1, activation='sigmoid'))\n",
        "\n",
        "model.compile(optimizer=Adam(), loss='binary_crossentropy', metrics=['accuracy'])\n",
        "\n",
        "model.fit(X_train, y_train, epochs=5, batch_size=128, validation_data=(X_test, y_test))\n",
        "\n",
        "loss, accuracy = model.evaluate(X_test, y_test)\n",
        "print(f\"Test Accuracy: {accuracy:.4f}\")\n",
        "\n",
        "predictions = model.predict(X_test)\n",
        "predictions = (predictions > 0.5).astype(int)\n",
        "\n",
        "\n"
      ],
      "metadata": {
        "colab": {
          "base_uri": "https://localhost:8080/"
        },
        "id": "qXLlyLXrP8dv",
        "outputId": "9649125b-5624-497e-a1b0-45607bbfab09"
      },
      "execution_count": null,
      "outputs": [
        {
          "output_type": "stream",
          "name": "stderr",
          "text": [
            "/usr/local/lib/python3.10/dist-packages/keras/src/layers/convolutional/base_conv.py:107: UserWarning: Do not pass an `input_shape`/`input_dim` argument to a layer. When using Sequential models, prefer using an `Input(shape)` object as the first layer in the model instead.\n",
            "  super().__init__(activity_regularizer=activity_regularizer, **kwargs)\n"
          ]
        },
        {
          "output_type": "stream",
          "name": "stdout",
          "text": [
            "Epoch 1/5\n",
            "\u001b[1m35564/35564\u001b[0m \u001b[32m━━━━━━━━━━━━━━━━━━━━\u001b[0m\u001b[37m\u001b[0m \u001b[1m410s\u001b[0m 11ms/step - accuracy: 0.9416 - loss: 0.1487 - val_accuracy: 0.9707 - val_loss: 0.0696\n",
            "Epoch 2/5\n",
            "\u001b[1m35564/35564\u001b[0m \u001b[32m━━━━━━━━━━━━━━━━━━━━\u001b[0m\u001b[37m\u001b[0m \u001b[1m449s\u001b[0m 12ms/step - accuracy: 0.9667 - loss: 0.0766 - val_accuracy: 0.9747 - val_loss: 0.0624\n",
            "Epoch 3/5\n",
            "\u001b[1m35564/35564\u001b[0m \u001b[32m━━━━━━━━━━━━━━━━━━━━\u001b[0m\u001b[37m\u001b[0m \u001b[1m423s\u001b[0m 11ms/step - accuracy: 0.9754 - loss: 0.0593 - val_accuracy: 0.9736 - val_loss: 0.0582\n",
            "Epoch 4/5\n",
            "\u001b[1m35564/35564\u001b[0m \u001b[32m━━━━━━━━━━━━━━━━━━━━\u001b[0m\u001b[37m\u001b[0m \u001b[1m472s\u001b[0m 12ms/step - accuracy: 0.9799 - loss: 0.0498 - val_accuracy: 0.9847 - val_loss: 0.0385\n",
            "Epoch 5/5\n",
            "\u001b[1m35564/35564\u001b[0m \u001b[32m━━━━━━━━━━━━━━━━━━━━\u001b[0m\u001b[37m\u001b[0m \u001b[1m413s\u001b[0m 11ms/step - accuracy: 0.9822 - loss: 0.0443 - val_accuracy: 0.9834 - val_loss: 0.0366\n",
            "\u001b[1m35564/35564\u001b[0m \u001b[32m━━━━━━━━━━━━━━━━━━━━\u001b[0m\u001b[37m\u001b[0m \u001b[1m80s\u001b[0m 2ms/step - accuracy: 0.9834 - loss: 0.0363\n",
            "Test Accuracy: 0.9834\n",
            "\u001b[1m35564/35564\u001b[0m \u001b[32m━━━━━━━━━━━━━━━━━━━━\u001b[0m\u001b[37m\u001b[0m \u001b[1m75s\u001b[0m 2ms/step\n"
          ]
        }
      ]
    },
    {
      "cell_type": "code",
      "source": [
        "\n",
        "cm = confusion_matrix(y_test, predictions)\n",
        "\n",
        "plt.figure(figsize=(6, 5))\n",
        "sns.heatmap(cm, annot=True, fmt='d', cmap='Blues', xticklabels=['Not Delayed', 'Delayed'], yticklabels=['Not Delayed', 'Delayed'])\n",
        "plt.xlabel('Predicted')\n",
        "plt.ylabel('True')\n",
        "plt.title('Confusion Matrix')\n",
        "plt.show()"
      ],
      "metadata": {
        "colab": {
          "base_uri": "https://localhost:8080/",
          "height": 487
        },
        "id": "hjS8ZkNaX_q0",
        "outputId": "1271dee5-2205-48f6-f4e2-ae2e301986d1"
      },
      "execution_count": null,
      "outputs": [
        {
          "output_type": "display_data",
          "data": {
            "text/plain": [
              "<Figure size 600x500 with 2 Axes>"
            ],
            "image/png": "[encoded data removed]"
          },
          "metadata": {}
        }
      ]
    },
    {
      "cell_type": "code",
      "source": [
        "num_samples = 10\n",
        "sample_indices = np.random.choice(len(X_test), num_samples, replace=False)\n",
        "\n",
        "sample_data = X_test[sample_indices].reshape(num_samples, -1)\n",
        "\n",
        "true_labels = y_test[sample_indices].flatten()\n",
        "predicted_labels = (model.predict(X_test[sample_indices]) > 0.5).astype(int).flatten()\n",
        "\n",
        "sample_df = pd.DataFrame(sample_data, columns=data.drop('DELAYED', axis=1).columns)\n",
        "sample_df['True Label'] = true_labels\n",
        "sample_df['Predicted Label'] = predicted_labels\n",
        "\n",
        "print(\"Sample Test Data with True and Predicted Labels:\")\n",
        "print(sample_df)\n"
      ],
      "metadata": {
        "colab": {
          "base_uri": "https://localhost:8080/"
        },
        "id": "DX-oyBK5d2Em",
        "outputId": "fe09d971-a2da-441d-df1e-b78c6bbc317a"
      },
      "execution_count": null,
      "outputs": [
        {
          "output_type": "stream",
          "name": "stdout",
          "text": [
            "\u001b[1m1/1\u001b[0m \u001b[32m━━━━━━━━━━━━━━━━━━━━\u001b[0m\u001b[37m\u001b[0m \u001b[1m0s\u001b[0m 57ms/step\n",
            "Sample Test Data with True and Predicted Labels:\n",
            "   YEAR     MONTH  DAY_OF_MONTH  DAY_OF_WEEK  OP_UNIQUE_CARRIER    ORIGIN  \\\n",
            "0   0.0  0.424061      1.170349    -0.970650           1.318862  0.367377   \n",
            "1   0.0  0.719090      1.512902    -1.472862          -0.696759 -1.238473   \n",
            "2   0.0 -1.641139     -0.770785     0.033774           0.646988  0.219320   \n",
            "3   0.0  1.604176     -0.428232     0.535986          -0.696759 -0.862636   \n",
            "4   0.0  0.719090     -0.656600    -0.468438           0.646988  1.335443   \n",
            "5   0.0 -0.165996      0.941981    -0.970650          -0.696759 -0.851247   \n",
            "6   0.0 -0.165996     -1.341706    -0.468438          -0.696759 -0.623467   \n",
            "7   0.0  0.424061      0.485243    -0.468438           0.646988 -0.623467   \n",
            "8   0.0  1.604176      0.371059     0.535986           0.423030  1.677113   \n",
            "9   0.0  1.014119      0.256875     1.038198          -1.592591  0.481267   \n",
            "\n",
            "       DEST  CRS_DEP_TIME  DEP_TIME  CRS_ARR_TIME  ARR_TIME  DISTANCE  \\\n",
            "0  0.385048     -0.585288 -0.202175     -0.542458 -0.141966  0.309319   \n",
            "1 -1.617205     -0.031259 -0.067754     -0.179137 -0.110600 -1.011080   \n",
            "2 -0.106934     -1.022118 -1.014906     -0.610196 -0.363486  1.014194   \n",
            "3  1.231715     -1.209635 -1.000430     -0.799040 -0.657540 -0.014990   \n",
            "4  1.460544     -0.627905 -0.584758     -0.612248 -0.524236 -0.713246   \n",
            "5  1.369012      1.247268  1.601136      1.038091  1.310660 -1.014389   \n",
            "6 -0.770538     -0.159112 -0.071890     -0.107294  0.032506 -0.521308   \n",
            "7  1.334688     -1.522875 -1.467801     -1.193151 -1.126066  2.915370   \n",
            "8 -0.106934      0.695371  0.658120      1.044249  0.922509  0.219969   \n",
            "9  0.144778     -0.830339 -0.830852     -0.710776 -0.675184  2.268408   \n",
            "\n",
            "   CARRIER_DELAY  WEATHER_DELAY  NAS_DELAY  SECURITY_DELAY  \\\n",
            "0       4.466251      -0.061258  -0.211604       -0.015299   \n",
            "1      -0.174971      -0.061258   1.100940       -0.015299   \n",
            "2      -0.174971      -0.061258   4.090625       -0.015299   \n",
            "3       0.340720      -0.061258  -0.211604       -0.015299   \n",
            "4      -0.174971      -0.061258  -0.211604       -0.015299   \n",
            "5       4.419370      -0.061258  -0.211604       -0.015299   \n",
            "6      -0.128090      -0.061258   0.225910       -0.015299   \n",
            "7      -0.174971      -0.061258  -0.211604       -0.015299   \n",
            "8      -0.174971      -0.061258  -0.211604       -0.015299   \n",
            "9      -0.174971      -0.061258  -0.211604       -0.015299   \n",
            "\n",
            "   LATE_AIRCRAFT_DELAY  True Label  Predicted Label  \n",
            "0            -0.240369           1                1  \n",
            "1            -0.240369           0                0  \n",
            "2            -0.240369           0                0  \n",
            "3             1.151397           1                1  \n",
            "4             0.594690           1                1  \n",
            "5             0.316337           1                1  \n",
            "6             0.177161           0                0  \n",
            "7            -0.240369           0                0  \n",
            "8            -0.240369           0                0  \n",
            "9            -0.240369           0                0  \n"
          ]
        }
      ]
    },
    {
      "cell_type": "markdown",
      "source": [
        "**DNN - Convolutional Recurrent Neural Network (CRNN)**"
      ],
      "metadata": {
        "id": "8tr4xG9C7NAs"
      }
    },
    {
      "cell_type": "code",
      "source": [
        "from tensorflow.keras.layers import Dense, Conv1D, MaxPooling1D, LSTM, Dropout\n",
        "\n",
        "data = pd.read_csv('cleaned_dataset.csv')\n",
        "\n",
        "data.fillna(0, inplace=True)\n",
        "\n",
        "label_encoder = LabelEncoder()\n",
        "data['OP_UNIQUE_CARRIER'] = label_encoder.fit_transform(data['OP_UNIQUE_CARRIER'])\n",
        "data['ORIGIN'] = label_encoder.fit_transform(data['ORIGIN'])\n",
        "data['DEST'] = label_encoder.fit_transform(data['DEST'])\n",
        "\n",
        "data['DELAYED'] = np.where(data['DEP_DELAY'] > 15, 1, 0)\n",
        "\n",
        "data.drop(['DEP_DELAY'], axis=1, inplace=True)\n",
        "\n",
        "X = data.drop('DELAYED', axis=1)\n",
        "y = data['DELAYED']\n",
        "\n",
        "X = X.values.reshape(X.shape[0], X.shape[1], 1)\n",
        "\n",
        "X_train, X_test, y_train, y_test = train_test_split(X, y, test_size=0.2, random_state=42)\n",
        "\n",
        "scaler = StandardScaler()\n",
        "for i in range(X_train.shape[2]):\n",
        "    X_train[:, :, i] = scaler.fit_transform(X_train[:, :, i])\n",
        "    X_test[:, :, i] = scaler.transform(X_test[:, :, i])\n",
        "\n",
        "model = Sequential()\n",
        "\n",
        "model.add(Conv1D(64, kernel_size=3, activation='relu', input_shape=(X_train.shape[1], X_train.shape[2])))\n",
        "model.add(MaxPooling1D(pool_size=2))\n",
        "\n",
        "model.add(Conv1D(128, kernel_size=3, activation='relu'))\n",
        "model.add(MaxPooling1D(pool_size=2))\n",
        "\n",
        "model.add(LSTM(64, return_sequences=True))\n",
        "model.add(LSTM(32))\n",
        "\n",
        "model.add(Dropout(0.5))\n",
        "\n",
        "model.add(Dense(1, activation='sigmoid'))\n",
        "\n",
        "model.compile(optimizer=Adam(), loss='binary_crossentropy', metrics=['accuracy'])\n",
        "\n",
        "model.fit(X_train, y_train, epochs=5, batch_size=128, validation_data=(X_test, y_test))\n",
        "\n",
        "loss, accuracy = model.evaluate(X_test, y_test)\n",
        "print(f\"Test Accuracy: {accuracy:.4f}\")\n",
        "\n",
        "predictions = model.predict(X_test)\n",
        "predictions = (predictions > 0.5).astype(int)\n",
        "\n"
      ],
      "metadata": {
        "colab": {
          "base_uri": "https://localhost:8080/"
        },
        "id": "xKopQ0smAm2P",
        "outputId": "a3a9007d-e44b-42bd-bd31-3c75188c50ce"
      },
      "execution_count": null,
      "outputs": [
        {
          "output_type": "stream",
          "name": "stderr",
          "text": [
            "/usr/local/lib/python3.10/dist-packages/keras/src/layers/convolutional/base_conv.py:107: UserWarning: Do not pass an `input_shape`/`input_dim` argument to a layer. When using Sequential models, prefer using an `Input(shape)` object as the first layer in the model instead.\n",
            "  super().__init__(activity_regularizer=activity_regularizer, **kwargs)\n"
          ]
        },
        {
          "output_type": "stream",
          "name": "stdout",
          "text": [
            "Epoch 1/5\n",
            "\u001b[1m35564/35564\u001b[0m \u001b[32m━━━━━━━━━━━━━━━━━━━━\u001b[0m\u001b[37m\u001b[0m \u001b[1m761s\u001b[0m 21ms/step - accuracy: 0.9412 - loss: 0.1519 - val_accuracy: 0.9719 - val_loss: 0.0640\n",
            "Epoch 2/5\n",
            "\u001b[1m35564/35564\u001b[0m \u001b[32m━━━━━━━━━━━━━━━━━━━━\u001b[0m\u001b[37m\u001b[0m \u001b[1m794s\u001b[0m 21ms/step - accuracy: 0.9732 - loss: 0.0638 - val_accuracy: 0.9832 - val_loss: 0.0406\n",
            "Epoch 3/5\n",
            "\u001b[1m35564/35564\u001b[0m \u001b[32m━━━━━━━━━━━━━━━━━━━━\u001b[0m\u001b[37m\u001b[0m \u001b[1m834s\u001b[0m 22ms/step - accuracy: 0.9803 - loss: 0.0479 - val_accuracy: 0.9784 - val_loss: 0.0537\n",
            "Epoch 4/5\n",
            "\u001b[1m35564/35564\u001b[0m \u001b[32m━━━━━━━━━━━━━━━━━━━━\u001b[0m\u001b[37m\u001b[0m \u001b[1m769s\u001b[0m 21ms/step - accuracy: 0.9831 - loss: 0.0409 - val_accuracy: 0.9856 - val_loss: 0.0323\n",
            "Epoch 5/5\n",
            "\u001b[1m35564/35564\u001b[0m \u001b[32m━━━━━━━━━━━━━━━━━━━━\u001b[0m\u001b[37m\u001b[0m \u001b[1m754s\u001b[0m 21ms/step - accuracy: 0.9846 - loss: 0.0372 - val_accuracy: 0.9841 - val_loss: 0.0380\n",
            "\u001b[1m35564/35564\u001b[0m \u001b[32m━━━━━━━━━━━━━━━━━━━━\u001b[0m\u001b[37m\u001b[0m \u001b[1m118s\u001b[0m 3ms/step - accuracy: 0.9841 - loss: 0.0380\n",
            "Test Accuracy: 0.9841\n",
            "\u001b[1m35564/35564\u001b[0m \u001b[32m━━━━━━━━━━━━━━━━━━━━\u001b[0m\u001b[37m\u001b[0m \u001b[1m114s\u001b[0m 3ms/step\n"
          ]
        }
      ]
    },
    {
      "cell_type": "code",
      "source": [
        "test_samples = X_test[:10].reshape(10, -1)\n",
        "predicted_classes = predictions[:10].flatten()\n",
        "\n",
        "test_samples_df = pd.DataFrame(test_samples, columns=data.drop('DELAYED', axis=1).columns)\n",
        "print(\"Sample Test Data (First 10 Samples):\")\n",
        "print(test_samples_df)\n",
        "print(\"\\nPredictions (1 = Delayed, 0 = Not Delayed):\")\n",
        "print(predicted_classes)\n"
      ],
      "metadata": {
        "id": "B9RkCWSS5v-4",
        "colab": {
          "base_uri": "https://localhost:8080/"
        },
        "outputId": "b3e46c8f-850b-4f46-fd42-f7629b65b548"
      },
      "execution_count": null,
      "outputs": [
        {
          "output_type": "stream",
          "name": "stdout",
          "text": [
            "Sample Test Data (First 10 Samples):\n",
            "   YEAR     MONTH  DAY_OF_MONTH  DAY_OF_WEEK  OP_UNIQUE_CARRIER    ORIGIN  \\\n",
            "0   0.0  0.129033     -0.428232     1.038198          -1.144675  0.219320   \n",
            "1   0.0 -1.346110     -0.199863     0.535986           0.199072 -0.874025   \n",
            "2   0.0  1.014119      1.398718    -0.970650           0.870946 -0.874025   \n",
            "3   0.0 -1.346110     -0.999153     0.535986           0.423030  0.162375   \n",
            "4   0.0 -1.641139     -0.656600     0.535986           0.870946  0.879882   \n",
            "5   0.0 -1.346110     -1.227522    -0.468438           1.318862  0.390155   \n",
            "6   0.0 -1.346110     -0.199863     0.535986           0.199072 -0.782913   \n",
            "7   0.0 -0.165996     -1.570075    -1.472862          -0.696759 -0.110961   \n",
            "8   0.0 -1.641139     -0.884969    -0.468438           0.423030  0.925438   \n",
            "9   0.0 -1.346110     -0.199863     0.535986          -0.920717 -1.614311   \n",
            "\n",
            "       DEST  CRS_DEP_TIME  DEP_TIME  CRS_ARR_TIME  ARR_TIME  DISTANCE  \\\n",
            "0  1.506310      0.011358 -0.009849      0.282712  0.303036  0.403633   \n",
            "1  0.053246      0.799784  0.869058      0.668612  0.846055 -0.976333   \n",
            "2 -1.079457     -0.361545 -0.386228     -0.361824 -0.451703 -0.781086   \n",
            "3  1.014327     -0.900658 -0.990089     -1.108992 -1.045691 -1.146760   \n",
            "4  1.334688     -0.659869 -0.260079     -0.320770  0.061912  2.842566   \n",
            "5 -1.502791      0.171174  0.155592      0.083604  0.122683 -0.385628   \n",
            "6 -0.850628     -0.393509 -0.400705     -0.316665 -0.292913 -0.296278   \n",
            "7 -0.690448      1.671313  1.599068      1.462992  1.304779 -0.225128   \n",
            "8  1.426219      1.110892  1.026227      0.910826  0.893104 -1.080575   \n",
            "9  0.510904      1.656397  1.597000      1.504045  1.471410 -0.597421   \n",
            "\n",
            "   CARRIER_DELAY  WEATHER_DELAY  NAS_DELAY  SECURITY_DELAY  \\\n",
            "0      -0.174971      -0.061258  -0.211604       -0.015299   \n",
            "1      -0.174971      -0.061258   1.975970       -0.015299   \n",
            "2      -0.174971      -0.061258  -0.211604       -0.015299   \n",
            "3      -0.174971      -0.061258  -0.211604       -0.015299   \n",
            "4       3.950559      -0.061258  -0.211604       -0.015299   \n",
            "5      -0.174971      -0.061258  -0.211604       -0.015299   \n",
            "6      -0.174971      -0.061258  -0.211604       -0.015299   \n",
            "7      -0.174971      -0.061258  -0.211604       -0.015299   \n",
            "8      -0.174971      -0.061258  -0.211604       -0.015299   \n",
            "9      -0.174971      -0.061258  -0.211604       -0.015299   \n",
            "\n",
            "   LATE_AIRCRAFT_DELAY  \n",
            "0            -0.240369  \n",
            "1             0.826651  \n",
            "2            -0.240369  \n",
            "3            -0.240369  \n",
            "4             0.084376  \n",
            "5            -0.240369  \n",
            "6            -0.240369  \n",
            "7            -0.240369  \n",
            "8            -0.240369  \n",
            "9            -0.240369  \n",
            "\n",
            "Predictions (1 = Delayed, 0 = Not Delayed):\n",
            "[0 1 0 0 1 0 0 0 0 0]\n"
          ]
        }
      ]
    },
    {
      "cell_type": "code",
      "source": [
        "\n",
        "cm = confusion_matrix(y_test, predictions)\n",
        "\n",
        "plt.figure(figsize=(6, 5))\n",
        "sns.heatmap(cm, annot=True, fmt='d', cmap='Blues', xticklabels=['Not Delayed', 'Delayed'], yticklabels=['Not Delayed', 'Delayed'])\n",
        "plt.xlabel('Predicted')\n",
        "plt.ylabel('True')\n",
        "plt.title('Confusion Matrix')\n",
        "plt.show()\n"
      ],
      "metadata": {
        "colab": {
          "base_uri": "https://localhost:8080/",
          "height": 487
        },
        "id": "g97yujWrtmcx",
        "outputId": "ed162958-86eb-4ff6-c60b-c10f565cbc49"
      },
      "execution_count": null,
      "outputs": [
        {
          "output_type": "display_data",
          "data": {
            "text/plain": [
              "<Figure size 600x500 with 2 Axes>"
            ],
            "image/png": "[encoded data removed]"
          },
          "metadata": {}
        }
      ]
    },
    {
      "cell_type": "code",
      "source": [],
      "metadata": {
        "id": "xG-qtI0zxe2Z"
      },
      "execution_count": null,
      "outputs": []
    }
  ]
}