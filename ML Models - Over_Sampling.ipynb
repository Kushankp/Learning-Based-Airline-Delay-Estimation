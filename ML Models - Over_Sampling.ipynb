{
  "cells": [
    {
      "cell_type": "code",
      "execution_count": null,
      "metadata": {
        "colab": {
          "base_uri": "https://localhost:8080/"
        },
        "id": "lL4xMxOSORJP",
        "outputId": "1c8e6413-03a7-4291-ffbd-573bce6a3721"
      },
      "outputs": [
        {
          "name": "stdout",
          "output_type": "stream",
          "text": [
            "Requirement already satisfied: pyspark in /usr/local/lib/python3.10/dist-packages (3.5.3)\n",
            "Requirement already satisfied: py4j==0.10.9.7 in /usr/local/lib/python3.10/dist-packages (from pyspark) (0.10.9.7)\n"
          ]
        }
      ],
      "source": [
        "!pip install pyspark"
      ]
    },
    {
      "cell_type": "code",
      "execution_count": null,
      "metadata": {
        "id": "ElFu07MBO10Y"
      },
      "outputs": [],
      "source": [
        "from pyspark import SparkContext, SparkConf\n",
        "from pyspark.sql import SparkSession\n",
        "conf = SparkConf().setAppName('appName').setMaster('local')\n",
        "sc = SparkContext(conf=conf)\n",
        "spark = SparkSession(sc)"
      ]
    },
    {
      "cell_type": "code",
      "execution_count": null,
      "metadata": {
        "id": "pnxEgwLZO36E"
      },
      "outputs": [],
      "source": [
        "from pyspark.sql import SQLContext\n",
        "from pyspark.sql.types import *\n",
        "from pyspark.sql import Row\n",
        "from pyspark.mllib.regression import LabeledPoint\n",
        "from pyspark.sql.functions import udf\n",
        "from pyspark.mllib.linalg import Vectors\n",
        "from pyspark.ml.classification import LogisticRegression\n",
        "from pyspark.ml.param import Param, Params\n",
        "from pyspark.mllib.classification import LogisticRegressionWithLBFGS, LogisticRegressionModel\n",
        "from pyspark.mllib.regression import LabeledPoint\n",
        "from pyspark.mllib.stat import Statistics\n",
        "from pyspark.ml.feature import OneHotEncoder, StringIndexer\n",
        "from pyspark.mllib.linalg import Vectors\n",
        "from pyspark.ml.feature import VectorAssembler\n",
        "from IPython.display import display\n",
        "from ipywidgets import interact\n",
        "import sys\n",
        "import numpy as np\n",
        "import pandas as pd\n",
        "import time\n",
        "import datetime\n",
        "import matplotlib.pyplot as plt\n",
        "import os.path\n",
        "import pyarrow as pa\n",
        "from pyarrow import csv\n",
        "spark.conf.set(\"spark.sql.execution.arrow.enabled\", \"true\")\n",
        "%matplotlib inline"
      ]
    },
    {
      "cell_type": "code",
      "execution_count": null,
      "metadata": {
        "id": "0tb9SZp3O5vA"
      },
      "outputs": [],
      "source": [
        "textFile = sc.textFile('cleaned_dataset.csv')\n",
        "textFileRDD = textFile.map(lambda x: x.split(','))\n",
        "header = textFileRDD.first()\n",
        "textRDD = textFileRDD.filter(lambda r: r != header)"
      ]
    },
    {
      "cell_type": "code",
      "execution_count": null,
      "metadata": {
        "colab": {
          "base_uri": "https://localhost:8080/"
        },
        "id": "YMOFCWbXPWZ9",
        "outputId": "09caca32-b562-4b06-ec1a-96e540f8df5b"
      },
      "outputs": [
        {
          "name": "stderr",
          "output_type": "stream",
          "text": [
            "/usr/local/lib/python3.10/dist-packages/pyspark/sql/context.py:113: FutureWarning: Deprecated in 3.0.0. Use SparkSession.builder.getOrCreate() instead.\n",
            "  warnings.warn(\n"
          ]
        }
      ],
      "source": [
        "def parse(r):\n",
        "    try:\n",
        "        x=Row(Year=int(r[0]),\\\n",
        "          Month=int(r[1]),\\\n",
        "          DayofMonth=int(r[2]),\\\n",
        "          DayOfWeek=int(r[3]),\\\n",
        "          DepTime=int(float(r[8])), \\\n",
        "          CRSDepTime=int(r[7]),\\\n",
        "          ArrTime=int(float(r[11])),\\\n",
        "          CRSArrTime=int(r[10]), \\\n",
        "          UniqueCarrier=r[4],\\\n",
        "          DepDelay=int(float(r[9])),\\\n",
        "          Origin=r[5],\\\n",
        "          Dest=r[6], \\\n",
        "          Distance=int(float(r[12])),\\\n",
        "          CarrierDelay=int(float(r[13])),\\\n",
        "          WeatherDelay=int(float(r[14])),\\\n",
        "          NASDelay= int(float(r[15])),\\\n",
        "          SecurityDelay=int(float(r[16])),\\\n",
        "          LateAircraftDelay=int(float(r[17])))\n",
        "    except:\n",
        "        x=None\n",
        "    return x\n",
        "\n",
        "rowRDD = textRDD.map(lambda r: parse(r)).filter(lambda r:r != None)\n",
        "sqlContext = SQLContext(sc)\n",
        "airline_df = sqlContext.createDataFrame(rowRDD)"
      ]
    },
    {
      "cell_type": "code",
      "execution_count": null,
      "metadata": {
        "id": "8cMT_7ruPZ9o"
      },
      "outputs": [],
      "source": [
        "# Add Hour of Day feature from CRSDepTime\n",
        "airline_df = airline_df.withColumn(\"Hour\", (col(\"CRSDepTime\") / 100).cast(\"int\"))\n",
        "\n",
        "# Add a Weekend feature (1 for weekend, 0 for weekday)\n",
        "airline_df = airline_df.withColumn(\"IsWeekend\", when(col(\"DayOfWeek\").isin([6, 7]), 1).otherwise(0))\n",
        "\n",
        "# Add a Season feature\n",
        "airline_df = airline_df.withColumn(\"Season\", when(col(\"Month\").isin([12, 1, 2]), \"Winter\")\n",
        "                                   .when(col(\"Month\").isin([3, 4, 5]), \"Spring\")\n",
        "                                   .when(col(\"Month\").isin([6, 7, 8]), \"Summer\")\n",
        "                                   .when(col(\"Month\").isin([9, 10, 11]), \"Fall\"))"
      ]
    },
    {
      "cell_type": "code",
      "execution_count": null,
      "metadata": {
        "id": "4wN4bDohPcPq"
      },
      "outputs": [],
      "source": [
        "airline_df = airline_df.withColumn('DepDelayed', when(airline_df['DepDelay'] > 15, 1).otherwise(0))"
      ]
    },
    {
      "cell_type": "code",
      "execution_count": null,
      "metadata": {
        "colab": {
          "base_uri": "https://localhost:8080/"
        },
        "id": "TqVAnQwzPeC0",
        "outputId": "15377ca2-5e88-4611-a95d-a9114aaba72a"
      },
      "outputs": [
        {
          "name": "stderr",
          "output_type": "stream",
          "text": [
            "/usr/local/lib/python3.10/dist-packages/pyspark/sql/dataframe.py:329: FutureWarning: Deprecated in 2.0, use createOrReplaceTempView instead.\n",
            "  warnings.warn(\"Deprecated in 2.0, use createOrReplaceTempView instead.\", FutureWarning)\n"
          ]
        }
      ],
      "source": [
        "# define hour function to obtain hour of day\n",
        "def hour_ex(x):\n",
        "    h = int(str(int(x)).zfill(4)[:2])\n",
        "    return h\n",
        "\n",
        "# register as a UDF\n",
        "sqlContext.udf.register(\"hour_ex_py\",hour_ex, IntegerType())\n",
        "f_udf = udf(hour_ex, IntegerType())\n",
        "\n",
        "#CRSDepTime: scheduled departure time (local, hhmm)\n",
        "airline_df = airline_df.withColumn('hour', f_udf(airline_df.CRSDepTime))\n",
        "airline_df.registerTempTable(\"airlineDF\")"
      ]
    },
    {
      "cell_type": "code",
      "execution_count": null,
      "metadata": {
        "colab": {
          "base_uri": "https://localhost:8080/"
        },
        "id": "EXUr-3xKPf5U",
        "outputId": "c39955da-9691-49c3-a3b3-79a6548f5b09"
      },
      "outputs": [
        {
          "name": "stdout",
          "output_type": "stream",
          "text": [
            "   DepDelayed    count\n",
            "0           1  1147992\n",
            "1           0  4542191\n"
          ]
        }
      ],
      "source": [
        "# Check class distribution\n",
        "class_distribution = airline_df.groupBy(\"DepDelayed\").count().toPandas()\n",
        "print(class_distribution)"
      ]
    },
    {
      "cell_type": "code",
      "execution_count": null,
      "metadata": {
        "colab": {
          "base_uri": "https://localhost:8080/",
          "height": 472
        },
        "id": "va0jdE9mPrsN",
        "outputId": "028f0ebe-02ac-4905-c6e5-16d3ac374837"
      },
      "outputs": [
        {
          "data": {
            "image/png": "[encoded data removed]",
            "text/plain": [
              "<Figure size 640x480 with 1 Axes>"
            ]
          },
          "metadata": {},
          "output_type": "display_data"
        }
      ],
      "source": [
        "# Convert Spark DataFrame to Pandas\n",
        "class_distribution = airline_df.groupBy(\"DepDelayed\").count().toPandas()\n",
        "\n",
        "# Plotting distribution\n",
        "sns.barplot(x=\"DepDelayed\", y=\"count\", data=class_distribution)\n",
        "plt.title(\"Class Distribution of Delayed vs Non-Delayed Flights\")\n",
        "plt.xlabel(\"DepDelayed (0 = On Time, 1 = Delayed)\")\n",
        "plt.ylabel(\"Count\")\n",
        "plt.show()"
      ]
    },
    {
      "cell_type": "code",
      "execution_count": null,
      "metadata": {
        "colab": {
          "base_uri": "https://localhost:8080/"
        },
        "id": "1wJnIFchPuXN",
        "outputId": "eb769ab8-0d96-4af0-e9d1-0a8ab45629f1"
      },
      "outputs": [
        {
          "name": "stdout",
          "output_type": "stream",
          "text": [
            "+----------+-------+\n",
            "|DepDelayed|  count|\n",
            "+----------+-------+\n",
            "|         0|4542191|\n",
            "|         1|4539355|\n",
            "+----------+-------+\n",
            "\n"
          ]
        }
      ],
      "source": [
        "# Filter the delayed and non-delayed flights\n",
        "delayed_df = airline_df.filter(airline_df[\"DepDelayed\"] == 1)  # Flights that are delayed\n",
        "on_time_df = airline_df.filter(airline_df[\"DepDelayed\"] == 0)  # Flights that are not delayed\n",
        "\n",
        "# Count the number of delayed and non-delayed flights\n",
        "on_time_count = on_time_df.count()   \n",
        "delayed_count = delayed_df.count()   \n",
        "\n",
        "# Oversample the delayed class to match the non-delayed class\n",
        "oversampled_delayed_df = delayed_df.sample(True, fraction=(on_time_count / delayed_count), seed=42)\n",
        "\n",
        "# Combine the oversampled delayed class with the non-delayed class\n",
        "balanced_airline_df = on_time_df.union(oversampled_delayed_df)\n",
        "\n",
        "# Check the new distribution\n",
        "balanced_airline_df.groupBy(\"DepDelayed\").count().show()"
      ]
    },
    {
      "cell_type": "code",
      "execution_count": null,
      "metadata": {
        "id": "bb5vOZ-rPzDc"
      },
      "outputs": [],
      "source": [
        "# Index and encode categorical variables\n",
        "indexer_carrier = StringIndexer(inputCol=\"UniqueCarrier\", outputCol=\"UniqueCarrierIndex\")\n",
        "encoder_carrier = OneHotEncoder(inputCol=\"UniqueCarrierIndex\", outputCol=\"UniqueCarrierVec\")\n",
        "\n",
        "indexer_origin = StringIndexer(inputCol=\"Origin\", outputCol=\"OriginIndex\")\n",
        "encoder_origin = OneHotEncoder(inputCol=\"OriginIndex\", outputCol=\"OriginVec\")\n",
        "\n",
        "indexer_dest = StringIndexer(inputCol=\"Dest\", outputCol=\"DestIndex\")\n",
        "encoder_dest = OneHotEncoder(inputCol=\"DestIndex\", outputCol=\"DestVec\")\n",
        "\n",
        "# Additional features: Add temporal and weather-related features\n",
        "balanced_airline_df = balanced_airline_df.withColumn(\"Month\", col(\"Month\").cast(\"int\"))\n",
        "balanced_airline_df = balanced_airline_df.withColumn(\"DayOfWeek\", col(\"DayOfWeek\").cast(\"int\"))\n",
        "balanced_airline_df = balanced_airline_df.withColumn(\"WeatherDelay\", col(\"WeatherDelay\").cast(\"int\"))\n",
        "\n",
        "# Assemble features including the new temporal and weather-related features\n",
        "assembler = VectorAssembler(\n",
        "    inputCols=[\"hour\", \"Distance\", \"UniqueCarrierVec\", \"OriginVec\", \"DestVec\", \"Month\", \"DayOfWeek\", \"WeatherDelay\"],\n",
        "    outputCol=\"features\"\n",
        ")\n",
        "\n",
        "pipeline = Pipeline(stages=[\n",
        "    indexer_carrier, encoder_carrier,\n",
        "    indexer_origin, encoder_origin,\n",
        "    indexer_dest, encoder_dest,\n",
        "    assembler\n",
        "])\n",
        "\n",
        "model = pipeline.fit(balanced_airline_df)\n",
        "balanced_airline_df = model.transform(balanced_airline_df)"
      ]
    },
    {
      "cell_type": "code",
      "execution_count": null,
      "metadata": {
        "colab": {
          "base_uri": "https://localhost:8080/"
        },
        "id": "8NFgHzI3P3oH",
        "outputId": "0cb1c09f-d46c-4126-a74f-0850cf275b82"
      },
      "outputs": [
        {
          "name": "stdout",
          "output_type": "stream",
          "text": [
            "['Year', 'Month', 'DayofMonth', 'DayOfWeek', 'DepTime', 'CRSDepTime', 'ArrTime', 'CRSArrTime', 'UniqueCarrier', 'DepDelay', 'Origin', 'Dest', 'Distance', 'CarrierDelay', 'WeatherDelay', 'NASDelay', 'SecurityDelay', 'LateAircraftDelay', 'hour', 'IsWeekend', 'Season', 'DepDelayed', 'UniqueCarrierIndex', 'UniqueCarrierVec', 'OriginIndex', 'OriginVec', 'DestIndex', 'DestVec', 'features']\n"
          ]
        }
      ],
      "source": [
        "print(balanced_airline_df.columns)"
      ]
    },
    {
      "cell_type": "code",
      "execution_count": null,
      "metadata": {
        "id": "LD2CHE3_P7Tt"
      },
      "outputs": [],
      "source": [
        "train_data, test_data = balanced_airline_df.randomSplit([0.8, 0.2], seed=42)"
      ]
    },
    {
      "cell_type": "code",
      "execution_count": null,
      "metadata": {
        "id": "wQzibh9PP9Jf"
      },
      "outputs": [],
      "source": [
        "def calculate_metrics(predictions):\n",
        "    \n",
        "    metrics = predictions.groupBy(\"DepDelayed\", \"prediction\").count().toPandas()\n",
        "\n",
        "    print(\"Metrics DataFrame:\\n\", metrics)\n",
        "\n",
        "    if metrics.empty:\n",
        "        return 0.0, 0.0, 0.0, 0.0  \n",
        "\n",
        "    TP = metrics[(metrics[\"DepDelayed\"] == 1) & (metrics[\"prediction\"] == 1)][\"count\"].sum()\n",
        "    FP = metrics[(metrics[\"DepDelayed\"] == 0) & (metrics[\"prediction\"] == 1)][\"count\"].sum()\n",
        "    FN = metrics[(metrics[\"DepDelayed\"] == 1) & (metrics[\"prediction\"] == 0)][\"count\"].sum()\n",
        "    TN = metrics[(metrics[\"DepDelayed\"] == 0) & (metrics[\"prediction\"] == 0)][\"count\"].sum()\n",
        "\n",
        "    precision = TP / (TP + FP) if (TP + FP) > 0 else 0.0\n",
        "    recall = TP / (TP + FN) if (TP + FN) > 0 else 0.0\n",
        "    f1_score = 2 * (precision * recall) / (precision + recall) if (precision + recall) > 0 else 0.0\n",
        "\n",
        "    accuracy = (TP + TN) / (TP + TN + FP + FN) if (TP + TN + FP + FN) > 0 else 0.0\n",
        "\n",
        "    return precision, recall, f1_score, accuracy"
      ]
    },
    {
      "cell_type": "code",
      "execution_count": null,
      "metadata": {
        "id": "Akf-dbqrP-xc"
      },
      "outputs": [],
      "source": [
        "lr = LogisticRegression(labelCol=\"DepDelayed\", featuresCol=\"features\")\n",
        "lr_model = lr.fit(train_data)"
      ]
    },
    {
      "cell_type": "code",
      "execution_count": null,
      "metadata": {
        "colab": {
          "base_uri": "https://localhost:8080/"
        },
        "id": "fpZ85YdLQFjF",
        "outputId": "aeb1989b-3302-4969-a42c-e42b324ff1fd"
      },
      "outputs": [
        {
          "name": "stdout",
          "output_type": "stream",
          "text": [
            "Training AUC-ROC: 0.7038384361170154\n",
            "Testing AUC-ROC: 0.7040581326484249\n"
          ]
        }
      ],
      "source": [
        "# Predict on train and test sets\n",
        "train_predictions = lr_model.transform(train_data)\n",
        "test_predictions = lr_model.transform(test_data)\n",
        "\n",
        "# Evaluate AUC-ROC\n",
        "evaluator = BinaryClassificationEvaluator(labelCol=\"DepDelayed\", metricName=\"areaUnderROC\")\n",
        "\n",
        "train_auc = evaluator.evaluate(train_predictions)\n",
        "test_auc = evaluator.evaluate(test_predictions)\n",
        "\n",
        "print(f\"Training AUC-ROC: {train_auc}\")\n",
        "print(f\"Testing AUC-ROC: {test_auc}\")"
      ]
    },
    {
      "cell_type": "code",
      "execution_count": null,
      "metadata": {
        "colab": {
          "base_uri": "https://localhost:8080/"
        },
        "id": "USogrUTiQHlo",
        "outputId": "ba75ab22-9a00-426b-ff01-accf92651601"
      },
      "outputs": [
        {
          "name": "stdout",
          "output_type": "stream",
          "text": [
            "Metrics DataFrame:\n",
            "    DepDelayed  prediction    count\n",
            "0           0         0.0  2366897\n",
            "1           0         1.0  1267635\n",
            "2           1         0.0  1287736\n",
            "3           1         1.0  2343708\n",
            "Metrics DataFrame:\n",
            "    DepDelayed  prediction   count\n",
            "0           0         0.0  591404\n",
            "1           0         1.0  316255\n",
            "2           1         0.0  321677\n",
            "3           1         1.0  586234\n",
            "Training - Precision: 0.6489851559378326, Recall: 0.6453928519894565, F1: 0.6471840190799482, Accuracy: 0.6483100136857044\n",
            "Testing - Precision: 0.6495746762564419, Recall: 0.6456954481221177, F1: 0.6476292532037119, Accuracy: 0.648632660817264\n"
          ]
        }
      ],
      "source": [
        "train_precision, train_recall, train_f1, train_accuracy = calculate_metrics(train_predictions)\n",
        "test_precision, test_recall, test_f1, test_accuracy = calculate_metrics(test_predictions)\n",
        "\n",
        "print(f\"Training - Precision: {train_precision}, Recall: {train_recall}, F1: {train_f1}, Accuracy: {train_accuracy}\")\n",
        "print(f\"Testing - Precision: {test_precision}, Recall: {test_recall}, F1: {test_f1}, Accuracy: {test_accuracy}\")"
      ]
    },
    {
      "cell_type": "code",
      "execution_count": null,
      "metadata": {
        "id": "iI8ZPRvYQJU0"
      },
      "outputs": [],
      "source": [
        "paramGrid = ParamGridBuilder() \\\n",
        "    .addGrid(lr.regParam, [0.01, 0.1, 0.5]) \\\n",
        "    .addGrid(lr.elasticNetParam, [0.0, 0.5, 1.0]) \\\n",
        "    .addGrid(lr.maxIter, [10, 50, 100]) \\\n",
        "    .build()"
      ]
    },
    {
      "cell_type": "code",
      "execution_count": null,
      "metadata": {
        "id": "gzsAKZ5AQK9a"
      },
      "outputs": [],
      "source": [
        "evaluator = BinaryClassificationEvaluator(labelCol=\"DepDelayed\", metricName=\"areaUnderROC\")\n",
        "\n",
        "# CrossValidator\n",
        "crossval = CrossValidator(\n",
        "    estimator=lr,\n",
        "    estimatorParamMaps=paramGrid,\n",
        "    evaluator=evaluator,\n",
        "    numFolds=3  # 3-fold cross-validation\n",
        ")"
      ]
    },
    {
      "cell_type": "code",
      "execution_count": null,
      "metadata": {
        "id": "KHphN9G_UUV_"
      },
      "outputs": [],
      "source": [
        "cv_model = crossval.fit(train_data)"
      ]
    },
    {
      "cell_type": "code",
      "execution_count": null,
      "metadata": {
        "colab": {
          "base_uri": "https://localhost:8080/"
        },
        "id": "ykun6-d0QMkw",
        "outputId": "bfae7d7f-7a4d-4b1a-b9fa-f3bccf6da513"
      },
      "outputs": [
        {
          "name": "stdout",
          "output_type": "stream",
          "text": [
            "Best Model Parameters:\n",
            "  regParam: 0.01\n",
            "  elasticNetParam: 0.0\n",
            "  maxIter: 50\n"
          ]
        }
      ],
      "source": [
        "best_model = cv_model.bestModel\n",
        "\n",
        "print(\"Best Model Parameters:\")\n",
        "print(f\"  regParam: {best_model._java_obj.getRegParam()}\")\n",
        "print(f\"  elasticNetParam: {best_model._java_obj.getElasticNetParam()}\")\n",
        "print(f\"  maxIter: {best_model._java_obj.getMaxIter()}\")"
      ]
    },
    {
      "cell_type": "code",
      "execution_count": null,
      "metadata": {
        "colab": {
          "base_uri": "https://localhost:8080/"
        },
        "id": "zFG9cSIbQOUi",
        "outputId": "b12128b6-bd28-445a-c114-5c55d798f573"
      },
      "outputs": [
        {
          "name": "stdout",
          "output_type": "stream",
          "text": [
            "Metrics DataFrame:\n",
            "    DepDelayed  prediction    count\n",
            "0           0         0.0  2334939\n",
            "1           0         1.0  1299593\n",
            "2           1         0.0  1266221\n",
            "3           1         1.0  2365223\n",
            "Metrics DataFrame:\n",
            "    DepDelayed  prediction   count\n",
            "0           0         0.0  583342\n",
            "1           0         1.0  324317\n",
            "2           1         0.0  316241\n",
            "3           1         1.0  591670\n",
            "Training Metrics (Tuned):\n",
            "AUC-ROC: 0.7007847299092509\n",
            "Precision: 0.6453865623813038, Recall: 0.651317492435516, F1 Score: 0.6483384638157084, Accuracy: 0.6468727669895964\n",
            "Testing Metrics (Tuned):\n",
            "AUC-ROC: 0.7010266180206572\n",
            "Precision: 0.6459371148280488, Recall: 0.65168281913095, F1 Score: 0.6487972463372403, Accuracy: 0.647186283095667\n"
          ]
        }
      ],
      "source": [
        "# Evaluate the best model on train and test sets using calculate_metrics\n",
        "train_predictions = best_model.transform(train_data)\n",
        "test_predictions = best_model.transform(test_data)\n",
        "\n",
        "# Use the evaluator to calculate AUC-ROC for both sets\n",
        "train_auc = evaluator.evaluate(train_predictions)\n",
        "test_auc = evaluator.evaluate(test_predictions)\n",
        "\n",
        "# Calculate precision, recall, F1, and accuracy for train and test sets\n",
        "train_precision, train_recall, train_f1, train_accuracy = calculate_metrics(train_predictions)\n",
        "test_precision, test_recall, test_f1, test_accuracy = calculate_metrics(test_predictions)\n",
        "\n",
        "print(f\"Training Metrics (Tuned):\")\n",
        "print(f\"AUC-ROC: {train_auc}\")\n",
        "print(f\"Precision: {train_precision}, Recall: {train_recall}, F1 Score: {train_f1}, Accuracy: {train_accuracy}\")\n",
        "\n",
        "print(f\"Testing Metrics (Tuned):\")\n",
        "print(f\"AUC-ROC: {test_auc}\")\n",
        "print(f\"Precision: {test_precision}, Recall: {test_recall}, F1 Score: {test_f1}, Accuracy: {test_accuracy}\")"
      ]
    },
    {
      "cell_type": "code",
      "execution_count": null,
      "metadata": {
        "id": "g0VNB2LDTayu"
      },
      "outputs": [],
      "source": [
        "rf = RandomForestClassifier(\n",
        "    featuresCol=\"features\",\n",
        "    labelCol=\"DepDelayed\",\n",
        "    numTrees=50,\n",
        "    seed=42\n",
        ")"
      ]
    },
    {
      "cell_type": "code",
      "execution_count": null,
      "metadata": {
        "id": "HCQ73in2Tdp1"
      },
      "outputs": [],
      "source": [
        "model = rf.fit(train_data)"
      ]
    },
    {
      "cell_type": "code",
      "execution_count": null,
      "metadata": {
        "colab": {
          "base_uri": "https://localhost:8080/"
        },
        "id": "lHScWfVdT1fG",
        "outputId": "5f6b8d9c-52ce-4b65-db54-d568226e6f21"
      },
      "outputs": [
        {
          "name": "stdout",
          "output_type": "stream",
          "text": [
            "AUC-ROC: 0.6942528708033293\n",
            "Metrics DataFrame:\n",
            "    DepDelayed  prediction   count\n",
            "0           0         0.0  481280\n",
            "1           0         1.0  426379\n",
            "2           1         0.0  232101\n",
            "3           1         1.0  675810\n",
            "Precision: 0.6131525536908824, Recall: 0.7443571010814937, F1-Score: 0.6724143077458832, Accuracy: 0.6468727669895964\n",
            "+----------+----------+------+\n",
            "|DepDelayed|prediction| count|\n",
            "+----------+----------+------+\n",
            "|         0|       0.0|481280|\n",
            "|         0|       1.0|426379|\n",
            "|         1|       0.0|232101|\n",
            "|         1|       1.0|675810|\n",
            "+----------+----------+------+\n",
            "\n"
          ]
        }
      ],
      "source": [
        "predictions = model.transform(test_data)\n",
        "\n",
        "\n",
        "evaluator = BinaryClassificationEvaluator(\n",
        "    labelCol=\"DepDelayed\",\n",
        "    rawPredictionCol=\"rawPrediction\",\n",
        "    metricName=\"areaUnderROC\"\n",
        ")\n",
        "auc = evaluator.evaluate(predictions)\n",
        "print(f\"AUC-ROC: {auc}\")\n",
        "precision, recall, f1_score, accuracy = calculate_metrics(predictions)\n",
        "print(f\"Precision: {precision}, Recall: {recall}, F1-Score: {f1_score}, Accuracy: {train_accuracy}\")\n",
        "\n",
        "predictions.groupBy(\"DepDelayed\", \"prediction\").count().show()"
      ]
    }
  ],
  "metadata": {
    "colab": {
      "provenance": []
    },
    "kernelspec": {
      "display_name": "Python 3",
      "name": "python3"
    },
    "language_info": {
      "name": "python"
    }
  },
  "nbformat": 4,
  "nbformat_minor": 0
}
