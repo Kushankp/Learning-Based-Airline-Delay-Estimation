{
  "cells": [
    {
      "cell_type": "markdown",
      "metadata": {
        "id": "F4ByBijTDp0y"
      },
      "source": [
        "We are use the popular Flights Dataset to analyze and predict flight delays in airports based on past flight records.\n",
        "For this dataset, we will only look at the flights in 2014 .\n",
        "Model used is Logistic Regression"
      ]
    },
    {
      "cell_type": "code",
      "execution_count": null,
      "metadata": {
        "colab": {
          "base_uri": "https://localhost:8080/"
        },
        "id": "OO12e4VvD3PA",
        "outputId": "87410e7e-76ca-439f-ee05-e7037f80ec36"
      },
      "outputs": [
        {
          "name": "stdout",
          "output_type": "stream",
          "text": [
            "Requirement already satisfied: pyspark in /usr/local/lib/python3.10/dist-packages (3.5.3)\n",
            "Requirement already satisfied: py4j==0.10.9.7 in /usr/local/lib/python3.10/dist-packages (from pyspark) (0.10.9.7)\n"
          ]
        }
      ],
      "source": [
        "!pip install pyspark"
      ]
    },
    {
      "cell_type": "markdown",
      "metadata": {
        "id": "lzf5EpldDp00"
      },
      "source": [
        "# Import findspark and findspark.init() to make pyspark importable as a regular library"
      ]
    },
    {
      "cell_type": "code",
      "execution_count": null,
      "metadata": {
        "id": "qYxGI2K6Dp02"
      },
      "outputs": [],
      "source": [
        "from pyspark import SparkContext, SparkConf\n",
        "from pyspark.sql import SparkSession\n",
        "conf = SparkConf().setAppName('appName').setMaster('local')\n",
        "sc = SparkContext(conf=conf)\n",
        "spark = SparkSession(sc)"
      ]
    },
    {
      "cell_type": "markdown",
      "metadata": {
        "id": "6XNpA1WRDp02"
      },
      "source": [
        "#importing some packages we need"
      ]
    },
    {
      "cell_type": "code",
      "execution_count": null,
      "metadata": {
        "id": "u3Z3KRK7Dp02"
      },
      "outputs": [],
      "source": [
        "from pyspark.sql import SQLContext\n",
        "from pyspark.sql.types import *\n",
        "from pyspark.sql import Row\n",
        "from pyspark.mllib.regression import LabeledPoint\n",
        "from pyspark.sql.functions import udf\n",
        "from pyspark.mllib.linalg import Vectors\n",
        "from pyspark.ml.classification import LogisticRegression\n",
        "from pyspark.ml.param import Param, Params\n",
        "from pyspark.mllib.classification import LogisticRegressionWithLBFGS, LogisticRegressionModel\n",
        "from pyspark.mllib.regression import LabeledPoint\n",
        "from pyspark.mllib.stat import Statistics\n",
        "from pyspark.ml.feature import OneHotEncoder, StringIndexer\n",
        "from pyspark.mllib.linalg import Vectors\n",
        "from pyspark.ml.feature import VectorAssembler\n",
        "from IPython.display import display\n",
        "from ipywidgets import interact\n",
        "import sys\n",
        "import numpy as np\n",
        "import pandas as pd\n",
        "import time\n",
        "import datetime\n",
        "import matplotlib.pyplot as plt\n",
        "import os.path\n",
        "import pyarrow as pa\n",
        "from pyarrow import csv\n",
        "spark.conf.set(\"spark.sql.execution.arrow.enabled\", \"true\")\n",
        "%matplotlib inline"
      ]
    },
    {
      "cell_type": "markdown",
      "metadata": {
        "id": "Be4HTj_QDp03"
      },
      "source": [
        "Removing headers of the dataset and renaming it so that further it will be easier for us analyse"
      ]
    },
    {
      "cell_type": "code",
      "execution_count": null,
      "metadata": {
        "id": "d1hfcpjXDp03"
      },
      "outputs": [],
      "source": [
        "textFile = sc.textFile('combined_output.csv')\n",
        "textFileRDD = textFile.map(lambda x: x.split(','))\n",
        "header = textFileRDD.first()\n",
        "textRDD = textFileRDD.filter(lambda r: r != header)"
      ]
    },
    {
      "cell_type": "markdown",
      "metadata": {
        "id": "Cx9azhJgDp03"
      },
      "source": [
        "# Creating the Dataframe from RDD (Resilient Distributed Dataset)"
      ]
    },
    {
      "cell_type": "code",
      "execution_count": null,
      "metadata": {
        "colab": {
          "base_uri": "https://localhost:8080/"
        },
        "id": "juubd2gBDp04",
        "outputId": "c9a92f38-a403-4cc9-d9da-4c361d816bec"
      },
      "outputs": [
        {
          "name": "stderr",
          "output_type": "stream",
          "text": [
            "/usr/local/lib/python3.10/dist-packages/pyspark/sql/context.py:113: FutureWarning: Deprecated in 3.0.0. Use SparkSession.builder.getOrCreate() instead.\n",
            "  warnings.warn(\n"
          ]
        }
      ],
      "source": [
        "def parse(r):\n",
        "    try:\n",
        "        x=Row(Year=int(r[0]),\\\n",
        "          Month=int(r[1]),\\\n",
        "          DayofMonth=int(r[2]),\\\n",
        "          DayOfWeek=int(r[3]),\\\n",
        "          DepTime=int(float(r[8])), \\\n",
        "          CRSDepTime=int(r[7]),\\\n",
        "          ArrTime=int(float(r[11])),\\\n",
        "          CRSArrTime=int(r[10]), \\\n",
        "          UniqueCarrier=r[4],\\\n",
        "          DepDelay=int(float(r[9])),\\\n",
        "          Origin=r[5],\\\n",
        "          Dest=r[6], \\\n",
        "          Distance=int(float(r[12])),\\\n",
        "          CarrierDelay=int(float(r[13])),\\\n",
        "          WeatherDelay=int(float(r[14])),\\\n",
        "          NASDelay= int(float(r[15])),\\\n",
        "          SecurityDelay=int(float(r[16])),\\\n",
        "          LateAircraftDelay=int(float(r[17])))\n",
        "    except:\n",
        "        x=None\n",
        "    return x\n",
        "\n",
        "rowRDD = textRDD.map(lambda r: parse(r)).filter(lambda r:r != None)\n",
        "sqlContext = SQLContext(sc)\n",
        "airline_df = sqlContext.createDataFrame(rowRDD)"
      ]
    },
    {
      "cell_type": "markdown",
      "metadata": {
        "id": "TkcbDvmSDp04"
      },
      "source": [
        "DepDelayed is a new column added to dataframe"
      ]
    },
    {
      "cell_type": "markdown",
      "metadata": {
        "id": "OVpbGgBADp04"
      },
      "source": [
        "True for delay > 15 minutes"
      ]
    },
    {
      "cell_type": "markdown",
      "metadata": {
        "id": "npQBLnZMDp04"
      },
      "source": [
        "False for delay <=15 minutes"
      ]
    },
    {
      "cell_type": "code",
      "execution_count": null,
      "metadata": {
        "id": "08xKJYDADp05"
      },
      "outputs": [],
      "source": [
        "airline_df = airline_df.withColumn('DepDelayed', airline_df['DepDelay']>15)"
      ]
    },
    {
      "cell_type": "code",
      "execution_count": null,
      "metadata": {
        "colab": {
          "base_uri": "https://localhost:8080/"
        },
        "id": "fLlnRUr6Dp05",
        "outputId": "a8b00bd7-bbf8-4612-9809-78da49e08bfb"
      },
      "outputs": [
        {
          "name": "stderr",
          "output_type": "stream",
          "text": [
            "/usr/local/lib/python3.10/dist-packages/pyspark/sql/dataframe.py:329: FutureWarning: Deprecated in 2.0, use createOrReplaceTempView instead.\n",
            "  warnings.warn(\"Deprecated in 2.0, use createOrReplaceTempView instead.\", FutureWarning)\n"
          ]
        }
      ],
      "source": [
        "# define hour function to obtain hour of day\n",
        "def hour_ex(x):\n",
        "    h = int(str(int(x)).zfill(4)[:2])\n",
        "    return h\n",
        "\n",
        "# register as a UDF\n",
        "sqlContext.udf.register(\"hour_ex_py\",hour_ex, IntegerType())\n",
        "f_udf = udf(hour_ex, IntegerType())\n",
        "\n",
        "#CRSDepTime: scheduled departure time (local, hhmm)\n",
        "airline_df = airline_df.withColumn('hour', f_udf(airline_df.CRSDepTime))\n",
        "airline_df.registerTempTable(\"airlineDF\")"
      ]
    },
    {
      "cell_type": "code",
      "execution_count": null,
      "metadata": {
        "colab": {
          "base_uri": "https://localhost:8080/"
        },
        "id": "F-2SlBaEDp05",
        "outputId": "cc15f598-dafc-4b5d-9c4b-fca7059f5fdc"
      },
      "outputs": [
        {
          "data": {
            "text/plain": [
              "[Row(Year=2014, Month=1, DayofMonth=6, DayOfWeek=1, DepTime=1612, CRSDepTime=1510, ArrTime=1710, CRSArrTime=1620, UniqueCarrier='AA', DepDelay=62, Origin='DFW', Dest='SAT', Distance=247, CarrierDelay=10, WeatherDelay=0, NASDelay=0, SecurityDelay=0, LateAircraftDelay=40, DepDelayed=True, hour=15),\n",
              " Row(Year=2014, Month=1, DayofMonth=13, DayOfWeek=1, DepTime=1701, CRSDepTime=1510, ArrTime=1800, CRSArrTime=1620, UniqueCarrier='AA', DepDelay=111, Origin='DFW', Dest='SAT', Distance=247, CarrierDelay=23, WeatherDelay=0, NASDelay=0, SecurityDelay=0, LateAircraftDelay=77, DepDelayed=True, hour=15),\n",
              " Row(Year=2014, Month=1, DayofMonth=24, DayOfWeek=5, DepTime=1717, CRSDepTime=1510, ArrTime=1831, CRSArrTime=1620, UniqueCarrier='AA', DepDelay=127, Origin='DFW', Dest='SAT', Distance=247, CarrierDelay=127, WeatherDelay=0, NASDelay=4, SecurityDelay=0, LateAircraftDelay=0, DepDelayed=True, hour=15),\n",
              " Row(Year=2014, Month=1, DayofMonth=31, DayOfWeek=5, DepTime=1545, CRSDepTime=1510, ArrTime=1648, CRSArrTime=1620, UniqueCarrier='AA', DepDelay=35, Origin='DFW', Dest='SAT', Distance=247, CarrierDelay=28, WeatherDelay=0, NASDelay=0, SecurityDelay=0, LateAircraftDelay=0, DepDelayed=True, hour=15),\n",
              " Row(Year=2014, Month=1, DayofMonth=6, DayOfWeek=1, DepTime=1741, CRSDepTime=1700, ArrTime=1845, CRSArrTime=1815, UniqueCarrier='AA', DepDelay=41, Origin='SAT', Dest='DFW', Distance=247, CarrierDelay=0, WeatherDelay=0, NASDelay=0, SecurityDelay=0, LateAircraftDelay=30, DepDelayed=True, hour=17)]"
            ]
          },
          "execution_count": 8,
          "metadata": {},
          "output_type": "execute_result"
        }
      ],
      "source": [
        "airline_df.head(n=5)"
      ]
    },
    {
      "cell_type": "markdown",
      "metadata": {
        "id": "esUw2_AXDp05"
      },
      "source": [
        "# Exploration: What are the primary causes for flight delays"
      ]
    },
    {
      "cell_type": "code",
      "execution_count": null,
      "metadata": {
        "id": "vuqbMfCDDp05"
      },
      "outputs": [],
      "source": [
        "cause_delay = sqlContext.sql(\"SELECT sum(WeatherDelay) Weather,sum(NASDelay) NAS,sum(SecurityDelay) Security,sum(LateAircraftDelay) lateAircraft,sum(CarrierDelay) Carrier\\\n",
        "                              FROM airlineDF \")"
      ]
    },
    {
      "cell_type": "code",
      "execution_count": null,
      "metadata": {
        "colab": {
          "base_uri": "https://localhost:8080/",
          "height": 81
        },
        "id": "Q_UsaRpHDp06",
        "outputId": "b3642c8a-4f49-4d82-dbfd-760eceb640f7"
      },
      "outputs": [
        {
          "data": {
            "application/vnd.google.colaboratory.intrinsic+json": {
              "summary": "{\n  \"name\": \"df_cause_delay\",\n  \"rows\": 1,\n  \"fields\": [\n    {\n      \"column\": \"Weather\",\n      \"properties\": {\n        \"dtype\": \"number\",\n        \"std\": null,\n        \"min\": 2988669,\n        \"max\": 2988669,\n        \"num_unique_values\": 1,\n        \"samples\": [\n          2988669\n        ],\n        \"semantic_type\": \"\",\n        \"description\": \"\"\n      }\n    },\n    {\n      \"column\": \"NAS\",\n      \"properties\": {\n        \"dtype\": \"number\",\n        \"std\": null,\n        \"min\": 16519549,\n        \"max\": 16519549,\n        \"num_unique_values\": 1,\n        \"samples\": [\n          16519549\n        ],\n        \"semantic_type\": \"\",\n        \"description\": \"\"\n      }\n    },\n    {\n      \"column\": \"Security\",\n      \"properties\": {\n        \"dtype\": \"number\",\n        \"std\": null,\n        \"min\": 65350,\n        \"max\": 65350,\n        \"num_unique_values\": 1,\n        \"samples\": [\n          65350\n        ],\n        \"semantic_type\": \"\",\n        \"description\": \"\"\n      }\n    },\n    {\n      \"column\": \"lateAircraft\",\n      \"properties\": {\n        \"dtype\": \"number\",\n        \"std\": null,\n        \"min\": 29483984,\n        \"max\": 29483984,\n        \"num_unique_values\": 1,\n        \"samples\": [\n          29483984\n        ],\n        \"semantic_type\": \"\",\n        \"description\": \"\"\n      }\n    },\n    {\n      \"column\": \"Carrier\",\n      \"properties\": {\n        \"dtype\": \"number\",\n        \"std\": null,\n        \"min\": 21259409,\n        \"max\": 21259409,\n        \"num_unique_values\": 1,\n        \"samples\": [\n          21259409\n        ],\n        \"semantic_type\": \"\",\n        \"description\": \"\"\n      }\n    }\n  ]\n}",
              "type": "dataframe",
              "variable_name": "df_cause_delay"
            },
            "text/html": [
              "\n",
              "  <div id=\"df-d777a6a6-a759-43fb-a235-8931dfcdcd84\" class=\"colab-df-container\">\n",
              "    <div>\n",
              "<style scoped>\n",
              "    .dataframe tbody tr th:only-of-type {\n",
              "        vertical-align: middle;\n",
              "    }\n",
              "\n",
              "    .dataframe tbody tr th {\n",
              "        vertical-align: top;\n",
              "    }\n",
              "\n",
              "    .dataframe thead th {\n",
              "        text-align: right;\n",
              "    }\n",
              "</style>\n",
              "<table border=\"1\" class=\"dataframe\">\n",
              "  <thead>\n",
              "    <tr style=\"text-align: right;\">\n",
              "      <th></th>\n",
              "      <th>Weather</th>\n",
              "      <th>NAS</th>\n",
              "      <th>Security</th>\n",
              "      <th>lateAircraft</th>\n",
              "      <th>Carrier</th>\n",
              "    </tr>\n",
              "  </thead>\n",
              "  <tbody>\n",
              "    <tr>\n",
              "      <th>0</th>\n",
              "      <td>2988669</td>\n",
              "      <td>16519549</td>\n",
              "      <td>65350</td>\n",
              "      <td>29483984</td>\n",
              "      <td>21259409</td>\n",
              "    </tr>\n",
              "  </tbody>\n",
              "</table>\n",
              "</div>\n",
              "    <div class=\"colab-df-buttons\">\n",
              "\n",
              "  <div class=\"colab-df-container\">\n",
              "    <button class=\"colab-df-convert\" onclick=\"convertToInteractive('df-d777a6a6-a759-43fb-a235-8931dfcdcd84')\"\n",
              "            title=\"Convert this dataframe to an interactive table.\"\n",
              "            style=\"display:none;\">\n",
              "\n",
              "  <svg xmlns=\"http://www.w3.org/2000/svg\" height=\"24px\" viewBox=\"0 -960 960 960\">\n",
              "    <path d=\"M120-120v-720h720v720H120Zm60-500h600v-160H180v160Zm220 220h160v-160H400v160Zm0 220h160v-160H400v160ZM180-400h160v-160H180v160Zm440 0h160v-160H620v160ZM180-180h160v-160H180v160Zm440 0h160v-160H620v160Z\"/>\n",
              "  </svg>\n",
              "    </button>\n",
              "\n",
              "  <style>\n",
              "    .colab-df-container {\n",
              "      display:flex;\n",
              "      gap: 12px;\n",
              "    }\n",
              "\n",
              "    .colab-df-convert {\n",
              "      background-color: #E8F0FE;\n",
              "      border: none;\n",
              "      border-radius: 50%;\n",
              "      cursor: pointer;\n",
              "      display: none;\n",
              "      fill: #1967D2;\n",
              "      height: 32px;\n",
              "      padding: 0 0 0 0;\n",
              "      width: 32px;\n",
              "    }\n",
              "\n",
              "    .colab-df-convert:hover {\n",
              "      background-color: #E2EBFA;\n",
              "      box-shadow: 0px 1px 2px rgba(60, 64, 67, 0.3), 0px 1px 3px 1px rgba(60, 64, 67, 0.15);\n",
              "      fill: #174EA6;\n",
              "    }\n",
              "\n",
              "    .colab-df-buttons div {\n",
              "      margin-bottom: 4px;\n",
              "    }\n",
              "\n",
              "    [theme=dark] .colab-df-convert {\n",
              "      background-color: #3B4455;\n",
              "      fill: #D2E3FC;\n",
              "    }\n",
              "\n",
              "    [theme=dark] .colab-df-convert:hover {\n",
              "      background-color: #434B5C;\n",
              "      box-shadow: 0px 1px 3px 1px rgba(0, 0, 0, 0.15);\n",
              "      filter: drop-shadow(0px 1px 2px rgba(0, 0, 0, 0.3));\n",
              "      fill: #FFFFFF;\n",
              "    }\n",
              "  </style>\n",
              "\n",
              "    <script>\n",
              "      const buttonEl =\n",
              "        document.querySelector('#df-d777a6a6-a759-43fb-a235-8931dfcdcd84 button.colab-df-convert');\n",
              "      buttonEl.style.display =\n",
              "        google.colab.kernel.accessAllowed ? 'block' : 'none';\n",
              "\n",
              "      async function convertToInteractive(key) {\n",
              "        const element = document.querySelector('#df-d777a6a6-a759-43fb-a235-8931dfcdcd84');\n",
              "        const dataTable =\n",
              "          await google.colab.kernel.invokeFunction('convertToInteractive',\n",
              "                                                    [key], {});\n",
              "        if (!dataTable) return;\n",
              "\n",
              "        const docLinkHtml = 'Like what you see? Visit the ' +\n",
              "          '<a target=\"_blank\" href=https://colab.research.google.com/notebooks/data_table.ipynb>data table notebook</a>'\n",
              "          + ' to learn more about interactive tables.';\n",
              "        element.innerHTML = '';\n",
              "        dataTable['output_type'] = 'display_data';\n",
              "        await google.colab.output.renderOutput(dataTable, element);\n",
              "        const docLink = document.createElement('div');\n",
              "        docLink.innerHTML = docLinkHtml;\n",
              "        element.appendChild(docLink);\n",
              "      }\n",
              "    </script>\n",
              "  </div>\n",
              "\n",
              "\n",
              "    </div>\n",
              "  </div>\n"
            ],
            "text/plain": [
              "   Weather       NAS  Security  lateAircraft   Carrier\n",
              "0  2988669  16519549     65350      29483984  21259409"
            ]
          },
          "execution_count": 45,
          "metadata": {},
          "output_type": "execute_result"
        }
      ],
      "source": [
        "df_cause_delay = cause_delay.toPandas()\n",
        "df_cause_delay.head()"
      ]
    },
    {
      "cell_type": "code",
      "execution_count": null,
      "metadata": {
        "colab": {
          "base_uri": "https://localhost:8080/",
          "height": 779
        },
        "id": "axioiX1Hxf91",
        "outputId": "7556e838-dd69-451e-c9de-75a6de91abf5"
      },
      "outputs": [
        {
          "name": "stdout",
          "output_type": "stream",
          "text": [
            "CarrierDelay         30.233686\n",
            "WeatherDelay          4.250282\n",
            "NASDelay             23.492979\n",
            "SecurityDelay         0.092936\n",
            "LateAircraftDelay    41.930117\n",
            "dtype: float64\n"
          ]
        },
        {
          "data": {
            "image/png": "[encoded data removed]",
            "text/plain": [
              "<Figure size 800x800 with 1 Axes>"
            ]
          },
          "metadata": {},
          "output_type": "display_data"
        }
      ],
      "source": [
        "from pyspark.sql import functions as F\n",
        "\n",
        "# List of delay columns\n",
        "delay_columns = ['CarrierDelay', 'WeatherDelay', 'NASDelay', 'SecurityDelay', 'LateAircraftDelay']\n",
        "\n",
        "\n",
        "delay_totals = airline_df.select([F.sum(col).alias(col) for col in delay_columns])\n",
        "\n",
        "df_delay_totals = delay_totals.toPandas()\n",
        "\n",
        "\n",
        "total_delays = df_delay_totals.sum()\n",
        "total_delays_percentage = (total_delays / total_delays.sum()) * 100\n",
        "\n",
        "\n",
        "print(total_delays_percentage)\n",
        "\n",
        "\n",
        "plt.figure(figsize=(8, 8))\n",
        "plt.pie(total_delays_percentage, labels=total_delays_percentage.index, autopct='%1.1f%%', startangle=140, colors=['#ff9999','#66b3ff','#99ff99','#ffcc99','#c2c2f0'])\n",
        "plt.title('Delay Contributions by Cause')\n",
        "plt.show()\n"
      ]
    },
    {
      "cell_type": "code",
      "execution_count": null,
      "metadata": {
        "id": "qoSVpE2WxnXT"
      },
      "outputs": [],
      "source": [
        "# Plotting a pie chart to visualize delay contributions by cause\n",
        "plt.figure(figsize=(8, 8))\n",
        "plt.pie(total_delays_percentage, labels=total_delays.index, autopct='%1.1f%%', startangle=140, colors=['#ff9999','#66b3ff','#99ff99','#ffcc99','#c2c2f0'])\n",
        "plt.title('Delay Contributions by Cause')\n",
        "plt.show()\n"
      ]
    },
    {
      "cell_type": "markdown",
      "metadata": {
        "id": "3zKPpxF7Dp0-"
      },
      "source": [
        "# Exploration : Airport Origin delay per month"
      ]
    },
    {
      "cell_type": "code",
      "execution_count": null,
      "metadata": {
        "id": "wNyAA7rrDp1F"
      },
      "outputs": [],
      "source": [
        "grp_carr = sqlContext.sql(\"SELECT  UniqueCarrier,month, avg(DepDelay) avgDelay from df_ORG \\\n",
        "                            WHERE DepDelayed=True \\\n",
        "                            GROUP BY UniqueCarrier,month\")\n",
        "s = grp_carr.toPandas()"
      ]
    },
    {
      "cell_type": "code",
      "execution_count": null,
      "metadata": {
        "id": "C2cnRwLyDp1F"
      },
      "outputs": [],
      "source": [
        "ps = s.pivot(index='month', columns='UniqueCarrier', values='avgDelay')[['AA','UA','US']]"
      ]
    },
    {
      "cell_type": "code",
      "execution_count": null,
      "metadata": {
        "colab": {
          "base_uri": "https://localhost:8080/",
          "height": 508
        },
        "id": "KQ2qmFgNDp1F",
        "outputId": "14b61850-bb36-4a9d-c3ae-0067e45d8b06"
      },
      "outputs": [
        {
          "data": {
            "text/plain": [
              "Text(0.5, 1.0, 'How much delay does each carrier has in each month?')"
            ]
          },
          "execution_count": 28,
          "metadata": {},
          "output_type": "execute_result"
        },
        {
          "data": {
            "image/png": "[encoded data removed]",
            "text/plain": [
              "<Figure size 800x500 with 1 Axes>"
            ]
          },
          "metadata": {},
          "output_type": "display_data"
        }
      ],
      "source": [
        "rcParams['figure.figsize'] = (8,5)\n",
        "ps.plot(kind='bar', colormap='Greens');\n",
        "plt.xlabel('Month')\n",
        "plt.ylabel('Average')\n",
        "plt.title('How much delay does each carrier has in each month?')"
      ]
    }
  ],
  "metadata": {
    "colab": {
      "provenance": []
    },
    "kernelspec": {
      "display_name": "Python 3",
      "language": "python",
      "name": "python3"
    },
    "language_info": {
      "codemirror_mode": {
        "name": "ipython",
        "version": 3
      },
      "file_extension": ".py",
      "mimetype": "text/x-python",
      "name": "python",
      "nbconvert_exporter": "python",
      "pygments_lexer": "ipython3",
      "version": "3.8.3"
    }
  },
  "nbformat": 4,
  "nbformat_minor": 0
}
