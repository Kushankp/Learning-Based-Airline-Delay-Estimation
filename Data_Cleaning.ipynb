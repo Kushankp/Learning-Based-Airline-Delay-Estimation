{
  "nbformat": 4,
  "nbformat_minor": 0,
  "metadata": {
    "colab": {
      "provenance": []
    },
    "kernelspec": {
      "name": "python3",
      "display_name": "Python 3"
    },
    "language_info": {
      "name": "python"
    }
  },
  "cells": [
    {
      "cell_type": "code",
      "execution_count": null,
      "metadata": {
        "colab": {
          "base_uri": "https://localhost:8080/"
        },
        "id": "f8_8vmYBDoaq",
        "outputId": "29ae404b-8510-4784-f1eb-5c5b12edf62e"
      },
      "outputs": [
        {
          "output_type": "stream",
          "name": "stdout",
          "text": [
            "Columns with missing values and number of missing rows:\n",
            "\n",
            "DEP_TIME                122742\n",
            "DEP_DELAY               122742\n",
            "ARR_TIME                129628\n",
            "CARRIER_DELAY          4579283\n",
            "WEATHER_DELAY          4579283\n",
            "NAS_DELAY              4579283\n",
            "SECURITY_DELAY         4579283\n",
            "LATE_AIRCRAFT_DELAY    4579283\n",
            "dtype: int64\n",
            "\n",
            "Percentage of missing values in each column:\n",
            "\n",
            "DEP_TIME                2.11\n",
            "DEP_DELAY               2.11\n",
            "ARR_TIME                2.23\n",
            "CARRIER_DELAY          78.68\n",
            "WEATHER_DELAY          78.68\n",
            "NAS_DELAY              78.68\n",
            "SECURITY_DELAY         78.68\n",
            "LATE_AIRCRAFT_DELAY    78.68\n",
            "dtype: float64\n"
          ]
        }
      ],
      "source": [
        "import pandas as pd\n",
        "\n",
        "df = pd.read_csv('combined_output.csv')\n",
        "\n",
        "# Check for missing values in each column\n",
        "missing_values = df.isnull().sum()\n",
        "\n",
        "# Display columns with missing values\n",
        "print(\"Columns with missing values and number of missing rows:\\n\")\n",
        "print(missing_values[missing_values > 0])\n",
        "\n",
        "missing_percentage = (df.isnull().mean() * 100).round(2)\n",
        "print(\"\\nPercentage of missing values in each column:\\n\")\n",
        "print(missing_percentage[missing_percentage > 0])\n"
      ]
    },
    {
      "cell_type": "code",
      "source": [
        "# Dimensions of the dataset\n",
        "dimensions = df.shape\n",
        "\n",
        "print(f\"The dataset has {dimensions[0]} rows and {dimensions[1]} columns.\")"
      ],
      "metadata": {
        "colab": {
          "base_uri": "https://localhost:8080/"
        },
        "id": "3N6ydB4U5RLe",
        "outputId": "c51e2701-0dc3-4e91-cd0d-f9edd031ec72"
      },
      "execution_count": null,
      "outputs": [
        {
          "output_type": "stream",
          "name": "stdout",
          "text": [
            "The dataset has 5819811 rows and 18 columns.\n"
          ]
        }
      ]
    },
    {
      "cell_type": "code",
      "source": [
        "print(df.columns)"
      ],
      "metadata": {
        "colab": {
          "base_uri": "https://localhost:8080/"
        },
        "id": "_D-QEKS78L53",
        "outputId": "fd787a3f-79b9-44b3-e977-8a4aabda276f"
      },
      "execution_count": null,
      "outputs": [
        {
          "output_type": "stream",
          "name": "stdout",
          "text": [
            "Index(['YEAR', 'MONTH', 'DAY_OF_MONTH', 'DAY_OF_WEEK', 'OP_UNIQUE_CARRIER',\n",
            "       'ORIGIN', 'DEST', 'CRS_DEP_TIME', 'DEP_TIME', 'DEP_DELAY',\n",
            "       'CRS_ARR_TIME', 'ARR_TIME', 'DISTANCE', 'CARRIER_DELAY',\n",
            "       'WEATHER_DELAY', 'NAS_DELAY', 'SECURITY_DELAY', 'LATE_AIRCRAFT_DELAY'],\n",
            "      dtype='object')\n"
          ]
        }
      ]
    },
    {
      "cell_type": "code",
      "source": [
        "# Count rows where all values are NaN\n",
        "empty_rows_count = df.isnull().all(axis=1).sum()\n",
        "print(f\"Number of fully empty rows: {empty_rows_count}\")"
      ],
      "metadata": {
        "colab": {
          "base_uri": "https://localhost:8080/"
        },
        "id": "DkEFL65zAZrp",
        "outputId": "4339bcc5-38d6-4b94-b4f6-fb99991f3085"
      },
      "execution_count": null,
      "outputs": [
        {
          "output_type": "stream",
          "name": "stdout",
          "text": [
            "Number of fully empty rows: 0\n"
          ]
        }
      ]
    },
    {
      "cell_type": "code",
      "source": [
        "# Display rows with missing DEP_TIME or ARR_TIME\n",
        "missing_times_df = df[df[['DEP_TIME', 'ARR_TIME']].isnull()]\n",
        "\n",
        "# Show a sample of these rows to understand the context\n",
        "print(missing_times_df.head())"
      ],
      "metadata": {
        "colab": {
          "base_uri": "https://localhost:8080/"
        },
        "id": "EXERb8co-cqS",
        "outputId": "e5e57ed2-8b8c-4019-b2b2-1cdd946a543a"
      },
      "execution_count": null,
      "outputs": [
        {
          "output_type": "stream",
          "name": "stdout",
          "text": [
            "   YEAR  MONTH  DAY_OF_MONTH  DAY_OF_WEEK OP_UNIQUE_CARRIER ORIGIN DEST  \\\n",
            "0   NaN    NaN           NaN          NaN               NaN    NaN  NaN   \n",
            "1   NaN    NaN           NaN          NaN               NaN    NaN  NaN   \n",
            "2   NaN    NaN           NaN          NaN               NaN    NaN  NaN   \n",
            "3   NaN    NaN           NaN          NaN               NaN    NaN  NaN   \n",
            "4   NaN    NaN           NaN          NaN               NaN    NaN  NaN   \n",
            "\n",
            "   CRS_DEP_TIME  DEP_TIME  DEP_DELAY  CRS_ARR_TIME  ARR_TIME  DISTANCE  \\\n",
            "0           NaN       NaN        NaN           NaN       NaN       NaN   \n",
            "1           NaN       NaN        NaN           NaN       NaN       NaN   \n",
            "2           NaN       NaN        NaN           NaN       NaN       NaN   \n",
            "3           NaN       NaN        NaN           NaN       NaN       NaN   \n",
            "4           NaN       NaN        NaN           NaN       NaN       NaN   \n",
            "\n",
            "   CARRIER_DELAY  WEATHER_DELAY  NAS_DELAY  SECURITY_DELAY  \\\n",
            "0            NaN            NaN        NaN             NaN   \n",
            "1            NaN            NaN        NaN             NaN   \n",
            "2            NaN            NaN        NaN             NaN   \n",
            "3            NaN            NaN        NaN             NaN   \n",
            "4            NaN            NaN        NaN             NaN   \n",
            "\n",
            "   LATE_AIRCRAFT_DELAY  \n",
            "0                  NaN  \n",
            "1                  NaN  \n",
            "2                  NaN  \n",
            "3                  NaN  \n",
            "4                  NaN  \n"
          ]
        }
      ]
    },
    {
      "cell_type": "markdown",
      "source": [
        "Dropping Rows with Missing Time Data:\n",
        "only a small percentage of rows (around 2%) have missing values for DEP_TIME and ARR_TIME, you can drop the rows where these critical time columns are missing.\n",
        "Since 2% is a small proportion of the data, removing these rows won't drastically impact your analysis, and it ensures that only complete data is used for further processing."
      ],
      "metadata": {
        "id": "IleiWWKIBM_s"
      }
    },
    {
      "cell_type": "code",
      "source": [
        "# Drop rows where either DEP_TIME or ARR_TIME is missing\n",
        "df_cleaned = df.dropna(subset=['DEP_TIME', 'ARR_TIME'])\n",
        "\n",
        "print(f\"Number of rows after dropping rows with missing DEP_TIME or ARR_TIME: {df_cleaned.shape[0]}\")"
      ],
      "metadata": {
        "colab": {
          "base_uri": "https://localhost:8080/"
        },
        "id": "Wp5wfB-X_4Tl",
        "outputId": "46c4ed38-ca48-4898-c0c0-97dc5ea8aac3"
      },
      "execution_count": null,
      "outputs": [
        {
          "output_type": "stream",
          "name": "stdout",
          "text": [
            "Number of rows after dropping rows with missing DEP_TIME or ARR_TIME: 5690183\n"
          ]
        }
      ]
    },
    {
      "cell_type": "markdown",
      "source": [
        "Handling Delay Columns (CARRIER_DELAY, WEATHER_DELAY, etc.): For delay columns, you can replace missing values with 0, assuming no delay occurred for that specific factor."
      ],
      "metadata": {
        "id": "QY9lqPOKBf3B"
      }
    },
    {
      "cell_type": "code",
      "source": [
        "# Fill missing delay columns with 0 using .loc to avoid SettingWithCopyWarning\n",
        "delay_columns = ['CARRIER_DELAY', 'WEATHER_DELAY', 'NAS_DELAY', 'SECURITY_DELAY', 'LATE_AIRCRAFT_DELAY']\n",
        "df_cleaned.loc[:, delay_columns] = df_cleaned[delay_columns].fillna(0)\n",
        "\n",
        "# Checking if there are any missing values left in the delay columns\n",
        "missing_delay_values = df_cleaned[delay_columns].isnull().sum()\n",
        "print(missing_delay_values)"
      ],
      "metadata": {
        "colab": {
          "base_uri": "https://localhost:8080/"
        },
        "id": "Osv6HteUBeyr",
        "outputId": "c2a3d8ef-324c-4134-d7ca-0568ce08ad0a"
      },
      "execution_count": null,
      "outputs": [
        {
          "output_type": "stream",
          "name": "stdout",
          "text": [
            "CARRIER_DELAY          0\n",
            "WEATHER_DELAY          0\n",
            "NAS_DELAY              0\n",
            "SECURITY_DELAY         0\n",
            "LATE_AIRCRAFT_DELAY    0\n",
            "dtype: int64\n"
          ]
        }
      ]
    },
    {
      "cell_type": "code",
      "source": [
        "missing_percentage = (df_cleaned.isnull().mean() * 100).round(2)\n",
        "print(\"\\nPercentage of missing values in each column:\\n\")\n",
        "print(missing_percentage[missing_percentage > 0])"
      ],
      "metadata": {
        "colab": {
          "base_uri": "https://localhost:8080/"
        },
        "id": "cZeLHDtEBsFN",
        "outputId": "e9ad4712-2f00-493f-fb2d-1eeb4a8e55a8"
      },
      "execution_count": null,
      "outputs": [
        {
          "output_type": "stream",
          "name": "stdout",
          "text": [
            "\n",
            "Percentage of missing values in each column:\n",
            "\n",
            "Series([], dtype: float64)\n"
          ]
        }
      ]
    },
    {
      "cell_type": "code",
      "source": [
        "# Checking if there are any missing values in the DataFrame\n",
        "missing_values = df_cleaned.isnull().sum()\n",
        "print(\"\\nTotal missing values in each column:\\n\")\n",
        "print(missing_values)"
      ],
      "metadata": {
        "colab": {
          "base_uri": "https://localhost:8080/"
        },
        "id": "rdnOjYLaCQqp",
        "outputId": "00b9e5dc-bd6c-40fb-8c49-21ea3aa2914d"
      },
      "execution_count": null,
      "outputs": [
        {
          "output_type": "stream",
          "name": "stdout",
          "text": [
            "\n",
            "Total missing values in each column:\n",
            "\n",
            "YEAR                   0\n",
            "MONTH                  0\n",
            "DAY_OF_MONTH           0\n",
            "DAY_OF_WEEK            0\n",
            "OP_UNIQUE_CARRIER      0\n",
            "ORIGIN                 0\n",
            "DEST                   0\n",
            "CRS_DEP_TIME           0\n",
            "DEP_TIME               0\n",
            "DEP_DELAY              0\n",
            "CRS_ARR_TIME           0\n",
            "ARR_TIME               0\n",
            "DISTANCE               0\n",
            "CARRIER_DELAY          0\n",
            "WEATHER_DELAY          0\n",
            "NAS_DELAY              0\n",
            "SECURITY_DELAY         0\n",
            "LATE_AIRCRAFT_DELAY    0\n",
            "dtype: int64\n"
          ]
        }
      ]
    },
    {
      "cell_type": "code",
      "source": [
        "df_cleaned.to_csv('cleaned_dataset.csv', index=False)  # For CSV format"
      ],
      "metadata": {
        "id": "3u7vCFSGCg5_"
      },
      "execution_count": null,
      "outputs": []
    },
    {
      "cell_type": "code",
      "source": [
        "# Checking for NaN values\n",
        "nan_count = df_cleaned.isna().sum()\n",
        "\n",
        "# Checking for 0 values\n",
        "zero_count = (df_cleaned == 0).sum()\n",
        "\n",
        "print(\"NaN values count per column:\\n\", nan_count)\n",
        "print(\"\\nZero values count per column:\\n\", zero_count)"
      ],
      "metadata": {
        "colab": {
          "base_uri": "https://localhost:8080/"
        },
        "id": "P-kLffCZC9cm",
        "outputId": "09faa5a3-b0cf-45de-a7db-2e1f70916c5b"
      },
      "execution_count": null,
      "outputs": [
        {
          "output_type": "stream",
          "name": "stdout",
          "text": [
            "NaN values count per column:\n",
            " YEAR                   0\n",
            "MONTH                  0\n",
            "DAY_OF_MONTH           0\n",
            "DAY_OF_WEEK            0\n",
            "OP_UNIQUE_CARRIER      0\n",
            "ORIGIN                 0\n",
            "DEST                   0\n",
            "CRS_DEP_TIME           0\n",
            "DEP_TIME               0\n",
            "DEP_DELAY              0\n",
            "CRS_ARR_TIME           0\n",
            "ARR_TIME               0\n",
            "DISTANCE               0\n",
            "CARRIER_DELAY          0\n",
            "WEATHER_DELAY          0\n",
            "NAS_DELAY              0\n",
            "SECURITY_DELAY         0\n",
            "LATE_AIRCRAFT_DELAY    0\n",
            "dtype: int64\n",
            "\n",
            "Zero values count per column:\n",
            " YEAR                         0\n",
            "MONTH                        0\n",
            "DAY_OF_MONTH                 0\n",
            "DAY_OF_WEEK                  0\n",
            "OP_UNIQUE_CARRIER            0\n",
            "ORIGIN                       0\n",
            "DEST                         0\n",
            "CRS_DEP_TIME                 0\n",
            "DEP_TIME                     0\n",
            "DEP_DELAY               306582\n",
            "CRS_ARR_TIME                 0\n",
            "ARR_TIME                     0\n",
            "DISTANCE                     0\n",
            "CARRIER_DELAY          5028388\n",
            "WEATHER_DELAY          5623019\n",
            "NAS_DELAY              4998648\n",
            "SECURITY_DELAY         5687008\n",
            "LATE_AIRCRAFT_DELAY    4986643\n",
            "dtype: int64\n"
          ]
        }
      ]
    },
    {
      "cell_type": "code",
      "source": [
        "df_cleaned['DEP_DELAY'] = df_cleaned['DEP_DELAY'].fillna(0)"
      ],
      "metadata": {
        "colab": {
          "base_uri": "https://localhost:8080/"
        },
        "id": "O310zslADi2B",
        "outputId": "5153302a-77c3-4ccd-f97b-72e8d3fa846d"
      },
      "execution_count": null,
      "outputs": [
        {
          "output_type": "stream",
          "name": "stderr",
          "text": [
            "<ipython-input-23-521c927db0ec>:1: SettingWithCopyWarning: \n",
            "A value is trying to be set on a copy of a slice from a DataFrame.\n",
            "Try using .loc[row_indexer,col_indexer] = value instead\n",
            "\n",
            "See the caveats in the documentation: https://pandas.pydata.org/pandas-docs/stable/user_guide/indexing.html#returning-a-view-versus-a-copy\n",
            "  df_cleaned['DEP_DELAY'] = df_cleaned['DEP_DELAY'].fillna(0)\n"
          ]
        }
      ]
    },
    {
      "cell_type": "code",
      "source": [
        "missing_values = df_cleaned.isnull().sum()\n",
        "print(missing_values)"
      ],
      "metadata": {
        "colab": {
          "base_uri": "https://localhost:8080/"
        },
        "id": "nqdowF89ENHo",
        "outputId": "c23c9d0d-b537-41e5-b909-e6bfa84e1d6b"
      },
      "execution_count": null,
      "outputs": [
        {
          "output_type": "stream",
          "name": "stdout",
          "text": [
            "YEAR                   0\n",
            "MONTH                  0\n",
            "DAY_OF_MONTH           0\n",
            "DAY_OF_WEEK            0\n",
            "OP_UNIQUE_CARRIER      0\n",
            "ORIGIN                 0\n",
            "DEST                   0\n",
            "CRS_DEP_TIME           0\n",
            "DEP_TIME               0\n",
            "DEP_DELAY              0\n",
            "CRS_ARR_TIME           0\n",
            "ARR_TIME               0\n",
            "DISTANCE               0\n",
            "CARRIER_DELAY          0\n",
            "WEATHER_DELAY          0\n",
            "NAS_DELAY              0\n",
            "SECURITY_DELAY         0\n",
            "LATE_AIRCRAFT_DELAY    0\n",
            "dtype: int64\n"
          ]
        }
      ]
    },
    {
      "cell_type": "code",
      "source": [
        "df_cleaned.to_csv('cleaned_dataset.csv', index=False)\n",
        "df.shape\n",
        "df_cleaned.shape"
      ],
      "metadata": {
        "colab": {
          "base_uri": "https://localhost:8080/"
        },
        "id": "wm5eHPPFES-a",
        "outputId": "b0a80a5d-cc9f-4415-d12b-f7365366c18a"
      },
      "execution_count": null,
      "outputs": [
        {
          "output_type": "execute_result",
          "data": {
            "text/plain": [
              "(5690183, 18)"
            ]
          },
          "metadata": {},
          "execution_count": 25
        }
      ]
    },
    {
      "cell_type": "code",
      "source": [
        "df.shape"
      ],
      "metadata": {
        "colab": {
          "base_uri": "https://localhost:8080/"
        },
        "id": "wJctXyjoE-e4",
        "outputId": "edd7ac01-6e17-4908-cc43-63289e7c5789"
      },
      "execution_count": null,
      "outputs": [
        {
          "output_type": "execute_result",
          "data": {
            "text/plain": [
              "(5819811, 18)"
            ]
          },
          "metadata": {},
          "execution_count": 26
        }
      ]
    },
    {
      "cell_type": "code",
      "source": [],
      "metadata": {
        "id": "aiAdy_0KFDEH"
      },
      "execution_count": null,
      "outputs": []
    }
  ]
}